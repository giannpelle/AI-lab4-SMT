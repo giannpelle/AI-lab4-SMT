{
 "cells": [
  {
   "cell_type": "markdown",
   "metadata": {},
   "source": [
    "#### Step by step resolving a minesweeper problem in world1/world1_0.json\n",
    "\n",
    "Number of mines: 12\n",
    "\n",
    "Size: 10 x 6\n",
    "\n",
    "Configuration:\n",
    "\n",
    "    ??20001???\n",
    "    ??20012???\n",
    "    ?31001????\n",
    "    ?100012???\n",
    "    ?111001221\n",
    "    ???1000000"
   ]
  },
  {
   "cell_type": "code",
   "execution_count": 1,
   "metadata": {},
   "outputs": [
    {
     "name": "stdout",
     "output_type": "stream",
     "text": [
      "Input matrix:\n",
      "\n",
      "??20001???\n",
      "??20012???\n",
      "?31001????\n",
      "?100012???\n",
      "?111001221\n",
      "???1000000\n",
      "\n",
      "Resulting matrix:\n",
      "\n",
      "?X20001???\n",
      "XX20012???\n",
      "X31001Xs??\n",
      "s100012XXs\n",
      "s111001221\n",
      "ssX1000000\n"
     ]
    }
   ],
   "source": [
    "%run minesweeper_solver \"world1/world1_0.json\" \"world1/world1_0_result.json\""
   ]
  },
  {
   "cell_type": "code",
   "execution_count": 2,
   "metadata": {},
   "outputs": [
    {
     "name": "stdout",
     "output_type": "stream",
     "text": [
      "Input matrix:\n",
      "\n",
      "?X20001???\n",
      "XX20012???\n",
      "X31001X4??\n",
      "1100012XX1\n",
      "0111001221\n",
      "01X1000000\n",
      "\n",
      "Resulting matrix:\n",
      "\n",
      "?X20001???\n",
      "XX20012???\n",
      "X31001X4ss\n",
      "1100012XX1\n",
      "0111001221\n",
      "01X1000000\n"
     ]
    }
   ],
   "source": [
    "%run minesweeper_solver \"world1/world1_1.json\" \"world1/world1_1_result.json\""
   ]
  },
  {
   "cell_type": "code",
   "execution_count": 3,
   "metadata": {},
   "outputs": [
    {
     "name": "stdout",
     "output_type": "stream",
     "text": [
      "Input matrix:\n",
      "\n",
      "?X20001???\n",
      "XX20012???\n",
      "X31001X443\n",
      "1100012XX1\n",
      "0111001221\n",
      "01X1000000\n",
      "\n",
      "Resulting matrix:\n",
      "\n",
      "?X20001X??\n",
      "XX20012sXX\n",
      "X31001X443\n",
      "1100012XX1\n",
      "0111001221\n",
      "01X1000000\n"
     ]
    }
   ],
   "source": [
    "%run minesweeper_solver \"world1/world1_2.json\" \"world1/world1_2_result.json\""
   ]
  },
  {
   "cell_type": "code",
   "execution_count": 4,
   "metadata": {},
   "outputs": [
    {
     "name": "stdout",
     "output_type": "stream",
     "text": [
      "Input matrix:\n",
      "\n",
      "?X20001X??\n",
      "XX200123XX\n",
      "X31001X443\n",
      "1100012XX1\n",
      "0111001221\n",
      "01X1000000\n",
      "\n",
      "Resulting matrix:\n",
      "\n",
      "?X20001Xs?\n",
      "XX200123XX\n",
      "X31001X443\n",
      "1100012XX1\n",
      "0111001221\n",
      "01X1000000\n"
     ]
    }
   ],
   "source": [
    "%run minesweeper_solver \"world1/world1_3.json\" \"world1/world1_3_result.json\""
   ]
  },
  {
   "cell_type": "code",
   "execution_count": 5,
   "metadata": {},
   "outputs": [
    {
     "name": "stdout",
     "output_type": "stream",
     "text": [
      "Input matrix:\n",
      "\n",
      "?X20001X3?\n",
      "XX200123XX\n",
      "X31001X443\n",
      "1100012XX1\n",
      "0111001221\n",
      "01X1000000\n",
      "\n",
      "Resulting matrix:\n",
      "\n",
      "XX20001X3s\n",
      "XX200123XX\n",
      "X31001X443\n",
      "1100012XX1\n",
      "0111001221\n",
      "01X1000000\n"
     ]
    }
   ],
   "source": [
    "%run minesweeper_solver \"world1/world1_4.json\" \"world1/world1_4_result.json\""
   ]
  },
  {
   "cell_type": "code",
   "execution_count": 6,
   "metadata": {},
   "outputs": [
    {
     "name": "stdout",
     "output_type": "stream",
     "text": [
      "Input matrix:\n",
      "\n",
      "XX20001X32\n",
      "XX200123XX\n",
      "X31001X443\n",
      "1100012XX1\n",
      "0111001221\n",
      "01X1000000\n",
      "\n",
      "Resulting matrix:\n",
      "\n",
      "XX20001X32\n",
      "XX200123XX\n",
      "X31001X443\n",
      "1100012XX1\n",
      "0111001221\n",
      "01X1000000\n"
     ]
    }
   ],
   "source": [
    "%run minesweeper_solver \"world1/world1_5.json\" \"world1/world1_5_result.json\""
   ]
  },
  {
   "cell_type": "code",
   "execution_count": null,
   "metadata": {},
   "outputs": [],
   "source": []
  }
 ],
 "metadata": {
  "kernelspec": {
   "display_name": "Python 3",
   "language": "python",
   "name": "python3"
  },
  "language_info": {
   "codemirror_mode": {
    "name": "ipython",
    "version": 3
   },
   "file_extension": ".py",
   "mimetype": "text/x-python",
   "name": "python",
   "nbconvert_exporter": "python",
   "pygments_lexer": "ipython3",
   "version": "3.8.6"
  }
 },
 "nbformat": 4,
 "nbformat_minor": 4
}
