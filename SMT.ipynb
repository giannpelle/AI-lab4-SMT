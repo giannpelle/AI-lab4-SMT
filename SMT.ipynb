{
 "cells": [
  {
   "cell_type": "markdown",
   "metadata": {},
   "source": [
    "# Lab 2020-11-13: Satisfiability Modulo Theories\n",
    "\n",
    "During this lab you will be using Z3 prover to deduce facts and solve combinatorial problems.\n"
   ]
  },
  {
   "cell_type": "markdown",
   "metadata": {},
   "source": [
    "## Using Z3 in Jupyter\n",
    "\n",
    "Code cells are executed by the selected kernel (Python 3, based on [IPython](https://ipython.readthedocs.io/en/stable/)), which provides [Magic commands](https://ipython.readthedocs.io/en/stable/interactive/magics.html) to a better interaction with the environment. In particular we'll use `%%script` command which works like the [Unix Shebang](https://en.wikipedia.org/wiki/Shebang_(Unix)) passing the content of the cell to the executing program as standard input.\n"
   ]
  },
  {
   "cell_type": "code",
   "execution_count": 1,
   "metadata": {},
   "outputs": [
    {
     "name": "stdout",
     "output_type": "stream",
     "text": [
      "unsat\n"
     ]
    }
   ],
   "source": [
    "%%script z3 -in -smt2\n",
    "\n",
    "(declare-const p Bool)\n",
    "(declare-const q Bool)\n",
    "(declare-const r Bool)\n",
    "(define-fun conjecture () Bool\n",
    "    (=> (and (=> p q) (=> q r))\n",
    "        (=> p r)))\n",
    "(assert (not conjecture))\n",
    "(check-sat)"
   ]
  },
  {
   "cell_type": "markdown",
   "metadata": {},
   "source": [
    "To ease the interaction with Z3 we can define a macro for the `%%script z3 -in -smt2` header using the [%alias](https://ipython.readthedocs.io/en/stable/interactive/magics.html#magic-alias) line magic:"
   ]
  },
  {
   "cell_type": "code",
   "execution_count": 2,
   "metadata": {
    "scrolled": true
   },
   "outputs": [
    {
     "name": "stdout",
     "output_type": "stream",
     "text": [
      "Created `%%z3` as an alias for `%%script z3 -in -smt2`.\n"
     ]
    }
   ],
   "source": [
    "%alias_magic -c z3 script -p \"z3 -in -smt2\""
   ]
  },
  {
   "cell_type": "markdown",
   "metadata": {},
   "source": [
    "Now you can use `%%z3` instead of the `%%script`:"
   ]
  },
  {
   "cell_type": "code",
   "execution_count": 3,
   "metadata": {},
   "outputs": [
    {
     "name": "stdout",
     "output_type": "stream",
     "text": [
      "unsat\n"
     ]
    }
   ],
   "source": [
    "%%script z3 -in -smt2\n",
    "\n",
    "(declare-const p Bool)\n",
    "(declare-const q Bool)\n",
    "(declare-const r Bool)\n",
    "(define-fun conjecture () Bool\n",
    "    (=> (and (=> p q) (=> q r))\n",
    "        (=> p r)))\n",
    "(assert (not conjecture))\n",
    "(check-sat)"
   ]
  },
  {
   "cell_type": "markdown",
   "metadata": {},
   "source": [
    "## Z3 as SAT solver\n",
    "\n",
    "Z3 can be used to solve Boolean Satisfiability (SAT) problems. The [Z3 tutorial](https://rise4fun.com/z3/tutorialcontent/guide#h22) provides a quick introduction to SMT-LIB syntax.\n",
    "\n"
   ]
  },
  {
   "cell_type": "markdown",
   "metadata": {},
   "source": [
    "### Unicorn example\n",
    "\n",
    "Consider the unicorn example introduced during the lecture:\n",
    "\n",
    "-   If the unicorn is mythical, then it is immortal\n",
    "-   If the unicorn is not mythical, then it is a mortal mammal\n",
    "-   If the unicorn is either immortal or a mammal, then it is horned\n",
    "-   The unicorn is magical if it is horned\n",
    "\n",
    "Abstracting the domain using propositional variables\n",
    "\n",
    "-   $m$: the unicorn is mythical\n",
    "-   $i$: the unicorn is immortal\n",
    "-   $l$: the unicorn is mammal\n",
    "-   $h$: the unicorn is horned\n",
    "-   $g$: the unicorn is magical\n",
    "\n",
    "the above statements became\n",
    "\n",
    "$$(m\\rightarrow i)\\wedge(\\neg m \\rightarrow (\\neg i \\wedge l))\\wedge((i \\vee l) \\rightarrow h)\\wedge(h\\rightarrow g)$$\n",
    "\n",
    "Use the above formula and Z3 to answer the following three questions from the lecture. You should write the SMT-LIB code and explain it."
   ]
  },
  {
   "cell_type": "markdown",
   "metadata": {},
   "source": [
    "1.  Is the unicorn mythical?"
   ]
  },
  {
   "cell_type": "code",
   "execution_count": 4,
   "metadata": {},
   "outputs": [
    {
     "name": "stdout",
     "output_type": "stream",
     "text": [
      "sat\n"
     ]
    }
   ],
   "source": [
    "%%script z3 -in -smt2\n",
    "\n",
    "(declare-const m Bool)\n",
    "(declare-const i Bool)\n",
    "(declare-const l Bool)\n",
    "(declare-const h Bool)\n",
    "(declare-const g Bool)\n",
    "(assert (and (=> m i) (=> (not m) (and (not i) l)) (=> (or i l) h) (=> h g)))\n",
    "(assert (= m true))\n",
    "(check-sat)"
   ]
  },
  {
   "cell_type": "code",
   "execution_count": 5,
   "metadata": {},
   "outputs": [
    {
     "name": "stdout",
     "output_type": "stream",
     "text": [
      "sat\n"
     ]
    }
   ],
   "source": [
    "%%script z3 -in -smt2\n",
    "\n",
    "(declare-const m Bool)\n",
    "(declare-const i Bool)\n",
    "(declare-const l Bool)\n",
    "(declare-const h Bool)\n",
    "(declare-const g Bool)\n",
    "(assert (and (=> m i) (=> (not m) (and (not i) l)) (=> (or i l) h) (=> h g)))\n",
    "(assert (= m false))\n",
    "(check-sat)"
   ]
  },
  {
   "cell_type": "markdown",
   "metadata": {},
   "source": [
    "2.  Is it magical?"
   ]
  },
  {
   "cell_type": "code",
   "execution_count": 6,
   "metadata": {},
   "outputs": [
    {
     "name": "stdout",
     "output_type": "stream",
     "text": [
      "sat\n"
     ]
    }
   ],
   "source": [
    "%%script z3 -in -smt2\n",
    "\n",
    "(declare-const m Bool)\n",
    "(declare-const i Bool)\n",
    "(declare-const l Bool)\n",
    "(declare-const h Bool)\n",
    "(declare-const g Bool)\n",
    "(assert (and (=> m i) (=> (not m) (and (not i) l)) (=> (or i l) h) (=> h g)))\n",
    "(assert (= g true))\n",
    "(check-sat)"
   ]
  },
  {
   "cell_type": "code",
   "execution_count": 7,
   "metadata": {},
   "outputs": [
    {
     "name": "stdout",
     "output_type": "stream",
     "text": [
      "unsat\n"
     ]
    }
   ],
   "source": [
    "%%script z3 -in -smt2\n",
    "\n",
    "(declare-const m Bool)\n",
    "(declare-const i Bool)\n",
    "(declare-const l Bool)\n",
    "(declare-const h Bool)\n",
    "(declare-const g Bool)\n",
    "(assert (and (=> m i) (=> (not m) (and (not i) l)) (=> (or i l) h) (=> h g)))\n",
    "(assert (= g false))\n",
    "(check-sat)"
   ]
  },
  {
   "cell_type": "markdown",
   "metadata": {},
   "source": [
    "3.  Is it horned?"
   ]
  },
  {
   "cell_type": "code",
   "execution_count": 8,
   "metadata": {},
   "outputs": [
    {
     "name": "stdout",
     "output_type": "stream",
     "text": [
      "sat\n"
     ]
    }
   ],
   "source": [
    "%%script z3 -in -smt2\n",
    "\n",
    "(declare-const m Bool)\n",
    "(declare-const i Bool)\n",
    "(declare-const l Bool)\n",
    "(declare-const h Bool)\n",
    "(declare-const g Bool)\n",
    "(assert (and (=> m i) (=> (not m) (and (not i) l)) (=> (or i l) h) (=> h g)))\n",
    "(assert (= h true))\n",
    "(check-sat)\n"
   ]
  },
  {
   "cell_type": "code",
   "execution_count": 9,
   "metadata": {},
   "outputs": [
    {
     "name": "stdout",
     "output_type": "stream",
     "text": [
      "unsat\n"
     ]
    }
   ],
   "source": [
    "%%script z3 -in -smt2\n",
    "\n",
    "(declare-const m Bool)\n",
    "(declare-const i Bool)\n",
    "(declare-const l Bool)\n",
    "(declare-const h Bool)\n",
    "(declare-const g Bool)\n",
    "(assert (and (=> m i) (=> (not m) (and (not i) l)) (=> (or i l) h) (=> h g)))\n",
    "(assert (= h false))\n",
    "(check-sat)\n"
   ]
  },
  {
   "cell_type": "markdown",
   "metadata": {},
   "source": [
    "### Unicorn conclusions\n",
    "\n",
    "By using the Z3 solver we can deduce that the unicorn can be mythical or not mythical and for sure magical and horned."
   ]
  },
  {
   "cell_type": "markdown",
   "metadata": {},
   "source": [
    "### Graph colouring\n",
    "\n",
    "In the previous exercise we looked at SAT as a way to answer to questions; i.e. by focusing on logical deduction. However SAT can be used to find solutions to combinatorial (NP) problems. In this exercise we will consider the [Graph Colouring problem](https://en.wikipedia.org/wiki/Graph_coloring).\n",
    "\n",
    "As seen in the lecture Graph Colouring can be used to solve different problems (e.g. [scheduling](https://en.wikipedia.org/wiki/Graph_coloring#Scheduling)).\n",
    "\n",
    "Consider the following problem by James L. Hein:\n",
    "\n",
    "> Some people form committees to do various tasks. The problem is to schedule the committee meetings in as few time slots as possible.\n",
    "> We'll represent each person with a number. For example, let $S = \\{1, 2, 3, 4, 5, 6, 7\\}$ represent a set of seven people, and suppose they have formed six three-person committees as follows:\n",
    ">\n",
    "> $$S_1 = \\{1, 2, 3\\}, S_2 = \\{2, 3, 4\\}, S_3 = \\{3, 4, 5\\}, S_4 = \\{4, 5, 6\\}, S_5 = \\{5, 6, 7\\}, S_6 = \\{1, 6, 7\\}$$\n",
    ">\n",
    "> We can model the problem with a graph, where the committee names are the vertices and an edge connects two vertices if a person belongs to both committees represented by the vertices.\n",
    "> If each committee meets for one hour, what is the smallest number of hours needed for the committees to do their work?\n",
    "> From the graph, it follows that an edge between two committees means that they have at least one member in common. Thus, they cannot meet at the same time. No edge between committees means that they can meet at the same time. For example, committees $S_1$ and $S_4$ can meet at the same hour.\n",
    "\n",
    "Solve the problem using a graph colouring problem with Z3.\n"
   ]
  },
  {
   "cell_type": "code",
   "execution_count": 10,
   "metadata": {},
   "outputs": [
    {
     "name": "stdout",
     "output_type": "stream",
     "text": [
      "unsat\n"
     ]
    }
   ],
   "source": [
    "%%script z3 -in -smt2\n",
    "\n",
    ";General instructions on ho to construct clauses and constant can be taken from \n",
    ";chapter n. 4 of this document http://ceur-ws.org/Vol-533/09_LANMR09_06.pdf\n",
    ";another explanation on how to construct clauses is: https://airccj.org/CSCP/vol3/csit3213.pdf\n",
    "        \n",
    ";check if can be satisfied in 1 hour (k=1)\n",
    "\n",
    "(set-logic QF_LIA)\n",
    "(set-option :produce-models true)\n",
    "\n",
    ";define all the comitees S[i, k] with the hour k 1-3\n",
    "(declare-const S11 Bool)\n",
    "(declare-const S21 Bool)\n",
    "(declare-const S31 Bool)\n",
    "(declare-const S41 Bool)\n",
    "(declare-const S51 Bool)\n",
    "(declare-const S61 Bool)\n",
    "\n",
    ";assert that every comitee sik has at least 1 hour k\n",
    "(assert S11)\n",
    "(assert S21)\n",
    "(assert S31)\n",
    "(assert S41)\n",
    "(assert S51)\n",
    "(assert S61)\n",
    "\n",
    ";check that if there is a comitee S[i, k] there is no connected comittee S[j, k] with same hour\n",
    "(assert (=> S11 (not (or S21 S31 S61) )))\n",
    "(assert (=> S21 (not (or S11 S31 S41) )))\n",
    "(assert (=> S31 (not (or S11 S21 S41 S51) )))\n",
    "(assert (=> S41 (not (or S21 S31 S51 S61) )))\n",
    "(assert (=> S51 (not (or S31 S41 S61) )))\n",
    "(assert (=> S61 (not (or S11 S41 S51) )))\n",
    "\n",
    "(check-sat)\n",
    "(exit)"
   ]
  },
  {
   "cell_type": "code",
   "execution_count": 11,
   "metadata": {},
   "outputs": [
    {
     "name": "stdout",
     "output_type": "stream",
     "text": [
      "unsat\n"
     ]
    }
   ],
   "source": [
    "%%script z3 -in -smt2\n",
    "\n",
    ";check if can be satisfied in 2 hour (k=2)\n",
    "\n",
    "(set-logic QF_LIA)\n",
    "(set-option :produce-models true)\n",
    "\n",
    ";define all the comitees S[i, k] with the hour k 1-3\n",
    "(declare-const S11 Bool)\n",
    "(declare-const S12 Bool)\n",
    "(declare-const S21 Bool)\n",
    "(declare-const S22 Bool)\n",
    "(declare-const S31 Bool)\n",
    "(declare-const S32 Bool)\n",
    "(declare-const S41 Bool)\n",
    "(declare-const S42 Bool)\n",
    "(declare-const S51 Bool)\n",
    "(declare-const S52 Bool)\n",
    "(declare-const S61 Bool)\n",
    "(declare-const S62 Bool)\n",
    "\n",
    ";assert that every comitee S[i, k] has been assigned at least 1 hour k\n",
    "(assert (or S11 S12 ))\n",
    "(assert (or S21 S22 ))\n",
    "(assert (or S31 S32 ))\n",
    "(assert (or S41 S42 ))\n",
    "(assert (or S51 S52 ))\n",
    "(assert (or S61 S62 ))\n",
    "\n",
    ";assert that every committee S[i, k] has been assigned at most 1 hour k\n",
    "(assert (=> S11 (not (or S12) )))\n",
    "(assert (=> S12 (not (or S11) )))\n",
    "(assert (=> S21 (not (or S22) )))\n",
    "(assert (=> S22 (not (or S21) )))\n",
    "(assert (=> S31 (not (or S32) )))\n",
    "(assert (=> S32 (not (or S31) )))\n",
    "(assert (=> S41 (not (or S42) )))\n",
    "(assert (=> S42 (not (or S41) )))\n",
    "(assert (=> S51 (not (or S52) )))\n",
    "(assert (=> S52 (not (or S51) )))\n",
    "(assert (=> S61 (not (or S62) )))\n",
    "(assert (=> S62 (not (or S61) )))\n",
    "\n",
    ";check that if there is a comitee S[i, k] there is no connected comittee S[j, k] with same hour k\n",
    "(assert (=> S11 (not (or S21 S31 S61) )))\n",
    "(assert (=> S12 (not (or S22 S32 S62) )))\n",
    "\n",
    "(assert (=> S21 (not (or S11 S31 S41) )))\n",
    "(assert (=> S22 (not (or S12 S32 S42) )))\n",
    "\n",
    "(assert (=> S31 (not (or S11 S21 S41 S51) )))\n",
    "(assert (=> S32 (not (or S12 S22 S42 S52) )))\n",
    "\n",
    "(assert (=> S41 (not (or S21 S31 S51 S61) )))\n",
    "(assert (=> S42 (not (or S22 S32 S52 S62) )))\n",
    "\n",
    "(assert (=> S51 (not (or S31 S41 S61) )))\n",
    "(assert (=> S52 (not (or S32 S42 S62) )))\n",
    "\n",
    "(assert (=> S61 (not (or S11 S41 S51) )))\n",
    "(assert (=> S62 (not (or S12 S42 S52) )))\n",
    "\n",
    "(check-sat)\n",
    "\n",
    "(exit)"
   ]
  },
  {
   "cell_type": "code",
   "execution_count": 12,
   "metadata": {},
   "outputs": [
    {
     "name": "stdout",
     "output_type": "stream",
     "text": [
      "sat\n",
      "((S11 true)\n",
      " (S12 false)\n",
      " (S13 false)\n",
      " (S21 false)\n",
      " (S22 true)\n",
      " (S23 false)\n",
      " (S31 false)\n",
      " (S32 false)\n",
      " (S33 true)\n",
      " (S41 true)\n",
      " (S42 false)\n",
      " (S43 false)\n",
      " (S51 false)\n",
      " (S52 true)\n",
      " (S53 false)\n",
      " (S61 false)\n",
      " (S62 false)\n",
      " (S63 true))\n"
     ]
    }
   ],
   "source": [
    "%%script z3 -in -smt2\n",
    "\n",
    ";check if can be satisfied in 3 hour (k=3)\n",
    "\n",
    "(set-logic QF_LIA)\n",
    "(set-option :produce-models true)\n",
    "\n",
    ";define all the comitees S[i, k] with the hour k 1-3\n",
    "(declare-const S11 Bool)\n",
    "(declare-const S12 Bool)\n",
    "(declare-const S13 Bool)\n",
    "(declare-const S21 Bool)\n",
    "(declare-const S22 Bool)\n",
    "(declare-const S23 Bool)\n",
    "(declare-const S31 Bool)\n",
    "(declare-const S32 Bool)\n",
    "(declare-const S33 Bool)\n",
    "(declare-const S41 Bool)\n",
    "(declare-const S42 Bool)\n",
    "(declare-const S43 Bool)\n",
    "(declare-const S51 Bool)\n",
    "(declare-const S52 Bool)\n",
    "(declare-const S53 Bool)\n",
    "(declare-const S61 Bool)\n",
    "(declare-const S62 Bool)\n",
    "(declare-const S63 Bool)\n",
    "\n",
    ";assert that every comitee S[i, k] has been assigned at least 1 hour k\n",
    "(assert (or S11 S12 S13))\n",
    "(assert (or S21 S22 S23))\n",
    "(assert (or S31 S32 S33))\n",
    "(assert (or S41 S42 S43))\n",
    "(assert (or S51 S52 S53))\n",
    "(assert (or S61 S62 S63))\n",
    "\n",
    ";assert that every committee S[i, k] has been assigned at most 1 hour k\n",
    "(assert (=> S11 (not (or S12 S13) )))\n",
    "(assert (=> S12 (not (or S11 S13) )))\n",
    "(assert (=> S13 (not (or S11 S12) )))\n",
    "(assert (=> S21 (not (or S22 S23) )))\n",
    "(assert (=> S22 (not (or S21 S23) )))\n",
    "(assert (=> S23 (not (or S21 S22) )))\n",
    "(assert (=> S31 (not (or S32 S33) )))\n",
    "(assert (=> S32 (not (or S31 S33) )))\n",
    "(assert (=> S33 (not (or S31 S32) )))\n",
    "(assert (=> S41 (not (or S42 S43) )))\n",
    "(assert (=> S42 (not (or S41 S43) )))\n",
    "(assert (=> S43 (not (or S41 S42) )))\n",
    "(assert (=> S51 (not (or S52 S53) )))\n",
    "(assert (=> S52 (not (or S51 S53) )))\n",
    "(assert (=> S53 (not (or S51 S52) )))\n",
    "(assert (=> S61 (not (or S62 S63) )))\n",
    "(assert (=> S62 (not (or S61 S63) )))\n",
    "(assert (=> S63 (not (or S61 S62) )))\n",
    "\n",
    ";check that if there is a comitee S[i, k] there is no connected comittee S[j, k] with same hour k\n",
    "(assert (=> S11 (not (or S21 S31 S61) )))\n",
    "(assert (=> S12 (not (or S22 S32 S62) )))\n",
    "(assert (=> S13 (not (or S23 S33 S63) )))\n",
    "\n",
    "(assert (=> S21 (not (or S11 S31 S41) )))\n",
    "(assert (=> S22 (not (or S12 S32 S42) )))\n",
    "(assert (=> S23 (not (or S13 S33 S43) )))\n",
    "\n",
    "(assert (=> S31 (not (or S11 S21 S41 S51) )))\n",
    "(assert (=> S32 (not (or S12 S22 S42 S52) )))\n",
    "(assert (=> S33 (not (or S13 S23 S43 S53) )))\n",
    "\n",
    "(assert (=> S41 (not (or S21 S31 S51 S61) )))\n",
    "(assert (=> S42 (not (or S22 S32 S52 S62) )))\n",
    "(assert (=> S43 (not (or S23 S33 S53 S63) )))\n",
    "\n",
    "(assert (=> S51 (not (or S31 S41 S61) )))\n",
    "(assert (=> S52 (not (or S32 S42 S62) )))\n",
    "(assert (=> S53 (not (or S33 S43 S63) )))\n",
    "\n",
    "(assert (=> S61 (not (or S11 S41 S51) )))\n",
    "(assert (=> S62 (not (or S12 S42 S52) )))\n",
    "(assert (=> S63 (not (or S13 S43 S53) )))\n",
    "\n",
    "(check-sat)\n",
    "(get-value (S11 S12 S13 S21 S22 S23 S31 S32 S33 S41 S42 S43 S51 S52 S53 S61 S62 S63))\n",
    "(exit)"
   ]
  },
  {
   "cell_type": "code",
   "execution_count": 14,
   "metadata": {},
   "outputs": [
    {
     "name": "stdout",
     "output_type": "stream",
     "text": [
      "unknown\n"
     ]
    }
   ],
   "source": [
    "%%script z3 -in -smt2\n",
    "\n",
    "; DISCLAIMER THIS KIND OF MODELING IS NOT RECOMMENDED TO RESOLVE SAT PROBLEMS\n",
    "\n",
    "(set-option :smt.auto-config false) ; disable automatic self configuration\n",
    "(set-option :smt.mbqi false) ; disable model-based quantifier instantiation\n",
    "\n",
    "(set-option :produce-models true)\n",
    "\n",
    "(define-fun maxp () Int 7)\n",
    "(define-fun maxc () Int 6)\n",
    "(define-fun maxg () Int 2)\n",
    "\n",
    "(declare-fun personInCommittee (Int Int) Bool)\n",
    "(declare-fun committeeInGroup (Int Int) Bool)\n",
    "\n",
    "(define-fun legalPerson ((x Int)) Bool\n",
    "     (and\n",
    "         (< x maxp)\n",
    "         (>= x 0)\n",
    "     )\n",
    ")\n",
    "\n",
    "(define-fun legalCommittee ((x Int)) Bool\n",
    "     (and\n",
    "         (< x maxc)\n",
    "         (>= x 0)\n",
    "     )\n",
    ")\n",
    "\n",
    "(define-fun legalGroup ((x Int)) Bool\n",
    "     (and\n",
    "         (< x maxg)\n",
    "         (>= x 0)\n",
    "     )\n",
    ")\n",
    "\n",
    "(define-fun distinctPeople ((c1 Int) (c2 Int)) Bool\n",
    "    (forall ((a Int)) (and (not \n",
    "                                (and (personInCommittee a c1) \n",
    "                                     (personInCommittee a c2)\n",
    "                                )\n",
    "                           )\n",
    "                           (legalPerson a)\n",
    "                      )\n",
    "    )\n",
    ")\n",
    "\n",
    "(assert (<= maxg 10))\n",
    "\n",
    "(assert (and (personInCommittee 0 0) (personInCommittee 0 5)\n",
    "             (personInCommittee 1 0) (personInCommittee 1 1)\n",
    "             (personInCommittee 2 0) (personInCommittee 2 1) (personInCommittee 2 2)\n",
    "             (personInCommittee 3 1) (personInCommittee 3 2) (personInCommittee 3 3)\n",
    "             (personInCommittee 4 2) (personInCommittee 4 3) (personInCommittee 4 4)\n",
    "             (personInCommittee 5 3) (personInCommittee 5 4) (personInCommittee 5 5)\n",
    "             (personInCommittee 6 4) (personInCommittee 6 5)\n",
    "        )\n",
    ")\n",
    "\n",
    "(assert (not \n",
    "           (or\n",
    "                (personInCommittee 0 1) (personInCommittee 0 2) (personInCommittee 0 3) (personInCommittee 0 4) \n",
    "                (personInCommittee 1 2) (personInCommittee 1 3) (personInCommittee 1 4) (personInCommittee 1 5)\n",
    "                (personInCommittee 2 3) (personInCommittee 2 4) (personInCommittee 2 5)\n",
    "                (personInCommittee 3 0) (personInCommittee 3 4) (personInCommittee 3 5)\n",
    "                (personInCommittee 4 0) (personInCommittee 4 1) (personInCommittee 4 5)\n",
    "                (personInCommittee 5 0) (personInCommittee 5 1) (personInCommittee 5 2)\n",
    "                (personInCommittee 6 0) (personInCommittee 6 1) (personInCommittee 6 2) (personInCommittee 6 3)\n",
    "           )\n",
    "        )\n",
    ")\n",
    "\n",
    "(assert\n",
    "    (forall ((g Int) (c1 Int)) (and\n",
    "                                   (legalGroup g)\n",
    "                                   (legalCommittee c1)\n",
    "                                   (=> (committeeInGroup c1 g) (forall ((c2 Int)) (and (legalCommittee c2) (not (= c2 c1)) (or (distinctPeople c1 c2) (not (committeeInGroup c2 g))))))\n",
    "                                   (=> (forall ((c2 Int)) (and (legalCommittee c2) (not (= c2 c1)) (or (distinctPeople c1 c2) (not (committeeInGroup c2 g))))) (committeeInGroup c1 g))\n",
    "                                )\n",
    "    )\n",
    ")\n",
    "                             \n",
    "(check-sat)\n",
    ";(get-model)\n",
    "\n",
    "(exit)"
   ]
  },
  {
   "cell_type": "markdown",
   "metadata": {},
   "source": [
    "## Z3 as SMT solver\n",
    "\n",
    "Encode the following formulae and verify their satisfiability. The formulae below are written using an *abstract notation* and should be adapted to SMT-LIB language. For each formula you should identify the right SMT-LIB *Logic* to be used. Z3 should be smart enough to detect the fragment without the SMT-LIB declaration, but it's not guaranteed that the guess is correct."
   ]
  },
  {
   "cell_type": "markdown",
   "metadata": {},
   "source": [
    "### [Arithmetic](https://rise4fun.com/z3/tutorialcontent/guide#h24)\n",
    "\n",
    "$$(x - y \\leq 0) \\land (y - z \\leq 0) \\land ((z - x \\leq -1) \\lor (z - x \\leq -2))$$\n",
    "\n",
    "$$(b \\lor (x + y \\leq 0)) \\land (\\neg b \\lor (x + z \\leq 10))$$"
   ]
  },
  {
   "cell_type": "code",
   "execution_count": 16,
   "metadata": {},
   "outputs": [
    {
     "name": "stdout",
     "output_type": "stream",
     "text": [
      "unsat\n"
     ]
    }
   ],
   "source": [
    "%%script z3 -in -smt2\n",
    "\n",
    "(set-logic QF_LIA)\n",
    "(set-option :produce-models true)\n",
    "\n",
    "(declare-const x Int)\n",
    "(declare-const y Int)\n",
    "(declare-const z Int)\n",
    "\n",
    "(assert (<= (- x y) 0))\n",
    "(assert (<= (- y z) 0))\n",
    "(assert (or (<= (- z x) -1) (<= (- z x) -2)))\n",
    "\n",
    "(check-sat)\n",
    "(exit)"
   ]
  },
  {
   "cell_type": "code",
   "execution_count": 17,
   "metadata": {},
   "outputs": [
    {
     "name": "stdout",
     "output_type": "stream",
     "text": [
      "sat\n",
      "((b false)\n",
      " (x 0)\n",
      " (y 0)\n",
      " (z 11))\n"
     ]
    }
   ],
   "source": [
    "%%script z3 -in -smt2\n",
    "\n",
    ";(set-logic QF_LIA)\n",
    "(set-option :produce-models true)\n",
    "\n",
    "(declare-const b Bool)\n",
    "(declare-const x Int)\n",
    "(declare-const y Int)\n",
    "(declare-const z Int)\n",
    "\n",
    "(assert (and (or b (<= (+ x y) 0)) (or (not b) (<= (+ x z) 10))))\n",
    "\n",
    "(check-sat)\n",
    "(get-value (b x y z))\n",
    "(exit)"
   ]
  },
  {
   "cell_type": "markdown",
   "metadata": {},
   "source": [
    "### [Arrays](https://rise4fun.com/z3/tutorialcontent/guide#h26)\n",
    "\n",
    "$$write(a,i,x)\\neq b \\land read(b,i) = y \\land read(write(b,i,x), j) = y \\land a=b \\land  i=j$$\n",
    "\n",
    "Note that in SMT-LIB *read* and *write* are called *select* and *store*."
   ]
  },
  {
   "cell_type": "code",
   "execution_count": 18,
   "metadata": {},
   "outputs": [
    {
     "name": "stdout",
     "output_type": "stream",
     "text": [
      "unsat\n"
     ]
    }
   ],
   "source": [
    "%%script z3 -in -smt2\n",
    "\n",
    "(declare-const i Int)\n",
    "(declare-const j Int)\n",
    "(declare-const x Int)\n",
    "(declare-const y Int)\n",
    "(declare-const a (Array Int Int))\n",
    "(declare-const b (Array Int Int))\n",
    "\n",
    "(assert\n",
    "    (and\n",
    "        (not (= (store a i x) b))\n",
    "        (= (select b i) y)\n",
    "        (= (select (store b i x) j) y)\n",
    "        (= a b)\n",
    "        (= i j)\n",
    "    )\n",
    ")\n",
    "\n",
    "(check-sat)\n",
    "(exit)"
   ]
  },
  {
   "cell_type": "markdown",
   "metadata": {},
   "source": [
    "### [Bit vectors](https://rise4fun.com/z3/tutorialcontent/guide#h25)\n",
    "\n",
    "In the formula below the vectors size must be bigger or equal than 2. The `a[.:.]` denotes slicing (in SMTLIB it's the `extract` function), `|` bitwise OR operation, and `+` addition where arrays are interpreted as (unsigned) integers binary encoded. The syntax for bit vectors assertions can be confusing, see [this document](https://stp.readthedocs.io/en/latest/smt-input-language.html) for more details.\n",
    "\n",
    "$$a[0:1]\\neq b[0:1] \\land (a|b)=c \\land c[0]=0 \\land a[1]+b[1]=0$$"
   ]
  },
  {
   "cell_type": "code",
   "execution_count": 19,
   "metadata": {},
   "outputs": [
    {
     "name": "stdout",
     "output_type": "stream",
     "text": [
      "unsat\n"
     ]
    }
   ],
   "source": [
    "%%script z3 -in -smt2\n",
    "\n",
    "(set-logic QF_BV)\n",
    "(set-info :smt-lib-version 2.0)\n",
    "\n",
    "(declare-const a (_ BitVec 3))\n",
    "(declare-const b (_ BitVec 3))\n",
    "(declare-const c (_ BitVec 3))\n",
    "\n",
    "(assert (and\n",
    "            (not (= ((_ extract 1 0) a) ((_ extract 1 0) b)))\n",
    "            (= (bvor a b) c)\n",
    "            (= ((_ extract 0 0) c) #b0)\n",
    "            (= (bvadd ((_ extract 1 1) a) ((_ extract 1 1) b)) #b0)\n",
    "        )\n",
    ")\n",
    "\n",
    "(check-sat)\n",
    "(exit)"
   ]
  },
  {
   "cell_type": "markdown",
   "metadata": {},
   "source": [
    "### Combine theories\n",
    "\n",
    "$$a=b+2 \\land A=write(B,a+1,4) \\land (read(A,b+3)=2 \\lor f(a-1)\\neq f(b+1))$$"
   ]
  },
  {
   "cell_type": "code",
   "execution_count": 20,
   "metadata": {},
   "outputs": [
    {
     "name": "stdout",
     "output_type": "stream",
     "text": [
      "unsat\n"
     ]
    }
   ],
   "source": [
    "%%script z3 -in -smt2\n",
    "\n",
    "(declare-const a Int)\n",
    "(declare-const b Int)\n",
    "(declare-const A (Array Int Int))\n",
    "(declare-const B (Array Int Int))\n",
    "(declare-fun f (Int) Int)\n",
    "\n",
    "(assert\n",
    "    (and\n",
    "        (= a (+ b 2))\n",
    "        (= A (store B (+ a 1) 4))\n",
    "        (or (= (select A (+ b 3)) 2) (not (= (f (- a 1)) (f (+ b 1)))))\n",
    "    )\n",
    ")\n",
    "     \n",
    "(check-sat)\n",
    "(exit)"
   ]
  },
  {
   "cell_type": "markdown",
   "metadata": {},
   "source": [
    "### EUF and weaker theories\n",
    "\n",
    "Use a SMT solver to verify that the formula\n",
    "\n",
    "$$(v_1 \\leq v_2)\\land(v_2 \\leq v_3)\\rightarrow (v_1 \\leq v_3)$$\n",
    "\n",
    "is a tautology in a logic with inequality (e.g. [QF\\_LIA](http://smtlib.cs.uiowa.edu/logics-all.shtml#QF_LIA) or [QF\\_IDL](http://smtlib.cs.uiowa.edu/logics-all.shtml#QF_IDL)) but not in a theory of uninterpreted functions; e.g. [QF\\_UF](http://smtlib.cs.uiowa.edu/logics-all.shtml#QF_UF) (mind that in SMT-LIB you should declare functions if they are not defined in the logic).\n",
    "\n",
    "Notes:\n",
    "\n",
    "1.  You should use `set-logic` to specify the logic.\n",
    "2.  In [QF\\_UF](http://smtlib.cs.uiowa.edu/logics-all.shtml#QF_UF) you don't have less or equal (`<=`) nor a domain (sort) to use, so:\n",
    "    -   define a new sort with `(declare-sort name 0)` where `name` is the name you select\n",
    "    -   define less or equal (`<=`) with `(declare-fun <= (name name) Bool)`"
   ]
  },
  {
   "cell_type": "code",
   "execution_count": 21,
   "metadata": {},
   "outputs": [
    {
     "name": "stdout",
     "output_type": "stream",
     "text": [
      "sat\n",
      "(model \n",
      "  ;; universe for MyType:\n",
      "  ;;   MyType!val!2 MyType!val!0 MyType!val!1 \n",
      "  ;; -----------\n",
      "  ;; definitions for universe elements:\n",
      "  (declare-fun MyType!val!2 () MyType)\n",
      "  (declare-fun MyType!val!0 () MyType)\n",
      "  (declare-fun MyType!val!1 () MyType)\n",
      "  ;; cardinality constraint:\n",
      "  (forall ((x MyType))\n",
      "          (or (= x MyType!val!2) (= x MyType!val!0) (= x MyType!val!1)))\n",
      "  ;; -----------\n",
      "  (define-fun v2 () MyType\n",
      "    MyType!val!1)\n",
      "  (define-fun v3 () MyType\n",
      "    MyType!val!2)\n",
      "  (define-fun v1 () MyType\n",
      "    MyType!val!0)\n",
      "  (define-fun <= ((x!0 MyType) (x!1 MyType)) Bool\n",
      "    (ite (and (= x!0 MyType!val!0) (= x!1 MyType!val!2)) false\n",
      "      true))\n",
      ")\n"
     ]
    }
   ],
   "source": [
    "%%script z3 -in -smt2\n",
    "\n",
    "(set-logic QF_UF)\n",
    "\n",
    "(declare-sort MyType 0)\n",
    "\n",
    "(declare-fun <= (MyType MyType) Bool)\n",
    "\n",
    "(declare-const v1 MyType)\n",
    "(declare-const v2 MyType)\n",
    "(declare-const v3 MyType)\n",
    "\n",
    "; WE LOOKED FOR A COUNTEREXAMPLE TO NEGATE THAT THE FORMULA IS A TAUTOLOGY \n",
    "\n",
    "(assert\n",
    "    (not (=> (and \n",
    "                 (<= v1 v2)\n",
    "                 (<= v2 v3)\n",
    "             )\n",
    "             (<= v1 v3)\n",
    "         )\n",
    "    )\n",
    ")\n",
    " \n",
    "(check-sat)\n",
    "(get-model)\n",
    "(exit)"
   ]
  },
  {
   "cell_type": "markdown",
   "metadata": {},
   "source": [
    "## Minesweeper\n",
    "\n",
    "Let's consider the [Minesweeper](https://en.wikipedia.org/wiki/Minesweeper_(video_game)) game, where you have a grid of covered squares, some of which contain mines, but you don't know which. Your job is to uncover every square which does not contain a mine. If you uncover a square containing a mine, you lose. If you uncover a square which does not contain a mine, you are told how many mines are contained within the eight surrounding squares.\n",
    "\n",
    "Once you start unveiling the minefield you can deduce the location of mines by solving a system of equations by trying to *disprove* that in a specific cell you can place a mine. In order to do that you can represent each cell by an integer variable that contains the number of mines in the specific cell (0 or 1).\n",
    "\n",
    "For this exercise we will use a problem generator with the property that the generated problems can be always solved by deduction (mind that in general this is not the case). The generator is available on the [Simon Tatham's Portable Puzzle Collection](https://www.chiark.greenend.org.uk/~sgtatham/puzzles/js/mines.html) page:\n",
    "\n",
    "> The first square you open is guaranteed to be safe, and (by default) you are guaranteed to be able to solve the whole grid by deduction rather than guesswork. (Deductions may require you to think about the total number of mines.)\n",
    "\n",
    "An interesting instance you can try to solve is the following:\n",
    "\n",
    "[![sweeper example](media/sweeper_6x6-10.png)](https://www.chiark.greenend.org.uk/~sgtatham/puzzles/js/mines.html#6x6:2,2,m1bf215cfe)\n",
    "\n",
    "and you can use [this link](https://www.chiark.greenend.org.uk/~sgtatham/puzzles/js/mines.html#6x6:2,2,m1bf215cfe) to verify your solution. You should include the SMT-LIB code you're using to solve the instance.\n",
    "\n",
    "A convenient representation for the problem (useful later on) is a matrix of numbers representing the number of mines *seen* by the cell or '?' for the unknown cells. E.g the above example would correspond to\n",
    "\n",
    "    ??????\n",
    "    ?1123?\n",
    "    ?1003?\n",
    "    ?1002?\n",
    "    ?2234?\n",
    "    ??????"
   ]
  },
  {
   "cell_type": "code",
   "execution_count": 22,
   "metadata": {},
   "outputs": [
    {
     "name": "stdout",
     "output_type": "stream",
     "text": [
      "Input matrix:\n",
      "\n",
      "??????\n",
      "?1123?\n",
      "?1003?\n",
      "?1002?\n",
      "?2234?\n",
      "??????\n",
      "\n",
      "Resulting matrix:\n",
      "\n",
      "ssXsXs\n",
      "s1123X\n",
      "s1003X\n",
      "X1002X\n",
      "s2234s\n",
      "ssXXXX\n"
     ]
    }
   ],
   "source": [
    "%run minesweeper_solver \"world0/world0_0.json\" \"world0/world0_0_result.json\""
   ]
  },
  {
   "cell_type": "markdown",
   "metadata": {},
   "source": [
    "#### Solving Minesweeper manually creating all clauses\n",
    "\n",
    "    001?\n",
    "    012?\n",
    "    01??\n",
    "    01??"
   ]
  },
  {
   "cell_type": "code",
   "execution_count": 23,
   "metadata": {},
   "outputs": [
    {
     "name": "stdout",
     "output_type": "stream",
     "text": [
      "sat\n",
      "((m00 0)\n",
      " (m01 0)\n",
      " (m02 0)\n",
      " (m03 0)\n",
      " (m10 0)\n",
      " (m11 0)\n",
      " (m12 0)\n",
      " (m13 0)\n",
      " (m20 0)\n",
      " (m21 0)\n",
      " (m22 1)\n",
      " (m23 0)\n",
      " (m30 1)\n",
      " (m31 0)\n",
      " (m32 0)\n",
      " (m33 1))\n"
     ]
    }
   ],
   "source": [
    "%%script z3 -in -smt2\n",
    "\n",
    "; minewsweeper configuration is different than assignment, in order to keep problem small\n",
    "; 0 0 1 ?\n",
    "; 0 1 2 ?\n",
    "; 0 1 ? ?\n",
    "; 0 1 ? ?\n",
    "\n",
    "(set-option :produce-models true)\n",
    "\n",
    "; declare all cells as constants\n",
    "(declare-const m00 Int)\n",
    "(declare-const m01 Int)\n",
    "(declare-const m02 Int)\n",
    "(declare-const m03 Int)\n",
    "(declare-const m10 Int)\n",
    "(declare-const m11 Int)\n",
    "(declare-const m12 Int)\n",
    "(declare-const m13 Int)\n",
    "(declare-const m20 Int)\n",
    "(declare-const m21 Int)\n",
    "(declare-const m22 Int)\n",
    "(declare-const m23 Int)\n",
    "(declare-const m30 Int)\n",
    "(declare-const m31 Int)\n",
    "(declare-const m32 Int)\n",
    "(declare-const m33 Int)\n",
    "\n",
    "; each of the cell of the minesweeper can be a mine (1) or not (0)\n",
    "(assert (and (<= m00 1) (>= m00 0)\n",
    "             (<= m01 1) (>= m01 0)\n",
    "             (<= m02 1) (>= m02 0)\n",
    "             (<= m03 1) (>= m03 0)\n",
    "             (<= m10 1) (>= m10 0)\n",
    "             (<= m11 1) (>= m11 0)\n",
    "             (<= m12 1) (>= m12 0)\n",
    "             (<= m13 1) (>= m13 0)\n",
    "             (<= m20 1) (>= m20 0)\n",
    "             (<= m21 1) (>= m21 0)\n",
    "             (<= m22 1) (>= m22 0)\n",
    "             (<= m23 1) (>= m23 0)\n",
    "             (<= m30 1) (>= m30 0)\n",
    "             (<= m31 1) (>= m31 0)\n",
    "             (<= m32 1) (>= m32 0)\n",
    "             (<= m33 1) (>= m33 0)\n",
    "        )\n",
    ")\n",
    "\n",
    "; total mines in the world are 3\n",
    "(assert (= 3 (+ m00 (+ m01 (+ m02 (+ m03 (+ m10 (+ m11 (+ m12 (+ m13 \n",
    "             (+ m20 (+ m21 (+ m22 (+ m23 (+ m30 (+ m31 (+ m32 m33) ))))))))))))))))\n",
    "\n",
    ";sum the adjacent (also diagonal) cells in the world and assign them the value of the neibouring sum \n",
    "(assert (= 0 (+ m10 (+ m01 m11))))\n",
    "(assert (= 0 (+ m00 (+ m20 (+ m11 (+ m01 m21))))))\n",
    "(assert (= 1 (+ m10 (+ m30 (+ m21 (+ m11 m31))))))\n",
    "(assert (= 0 (+ m00 (+ m02 (+ m11 m10 m12 )))))\n",
    "(assert (= 1 (+ m01 (+ m21 (+ m10 (+ m12 (+ m00 (+ m20 (+ m02 m22)))))))))\n",
    "(assert (= 2 (+ m20 (+ m22 (+ m11 (+ m31 (+ m10 (+ m12 (+ m30 m32)))))))))\n",
    "(assert (= 0 (+ m01 (+ m03 (+ m12 (+ m11 m13))))))\n",
    "(assert (= 1 (+ m11 (+ m13 (+ m02 (+ m22 (+ m01 (+ m03 (+ m21 m23)))))))))\n",
    "(assert (= 0 (+ m02 (+ m13 m12))))\n",
    "(assert (= 1 (+ m03 (+ m23 (+ m12 (+ m02 m22))))))\n",
    "\n",
    "(check-sat)\n",
    "(get-value (m00 m01 m02 m03 m10 m11 m12 m13 m20 m21 m22 m23 m30 m31 m32 m33))\n",
    "(exit)"
   ]
  },
  {
   "cell_type": "markdown",
   "metadata": {},
   "source": [
    "#### Step by step resolving a minesweeper problem in world1/world1_0.json\n",
    "\n",
    "Number of mines: 12\n",
    "\n",
    "Size: 10 x 6\n",
    "\n",
    "Configuration:\n",
    "\n",
    "    ??20001???\n",
    "    ??20012???\n",
    "    ?31001????\n",
    "    ?100012???\n",
    "    ?111001221\n",
    "    ???1000000"
   ]
  },
  {
   "cell_type": "code",
   "execution_count": 24,
   "metadata": {},
   "outputs": [
    {
     "name": "stdout",
     "output_type": "stream",
     "text": [
      "Input matrix:\n",
      "\n",
      "??20001???\n",
      "??20012???\n",
      "?31001????\n",
      "?100012???\n",
      "?111001221\n",
      "???1000000\n",
      "\n",
      "Resulting matrix:\n",
      "\n",
      "?X20001???\n",
      "XX20012???\n",
      "X31001Xs??\n",
      "s100012XXs\n",
      "s111001221\n",
      "ssX1000000\n"
     ]
    }
   ],
   "source": [
    "%run minesweeper_solver \"world1/world1_0.json\" \"world1/world1_0_result.json\""
   ]
  },
  {
   "cell_type": "code",
   "execution_count": 25,
   "metadata": {},
   "outputs": [
    {
     "name": "stdout",
     "output_type": "stream",
     "text": [
      "Input matrix:\n",
      "\n",
      "?X20001???\n",
      "XX20012???\n",
      "X31001X4??\n",
      "1100012XX1\n",
      "0111001221\n",
      "01X1000000\n",
      "\n",
      "Resulting matrix:\n",
      "\n",
      "?X20001???\n",
      "XX20012???\n",
      "X31001X4ss\n",
      "1100012XX1\n",
      "0111001221\n",
      "01X1000000\n"
     ]
    }
   ],
   "source": [
    "%run minesweeper_solver \"world1/world1_1.json\" \"world1/world1_1_result.json\""
   ]
  },
  {
   "cell_type": "code",
   "execution_count": 26,
   "metadata": {},
   "outputs": [
    {
     "name": "stdout",
     "output_type": "stream",
     "text": [
      "Input matrix:\n",
      "\n",
      "?X20001???\n",
      "XX20012???\n",
      "X31001X443\n",
      "1100012XX1\n",
      "0111001221\n",
      "01X1000000\n",
      "\n",
      "Resulting matrix:\n",
      "\n",
      "?X20001X??\n",
      "XX20012sXX\n",
      "X31001X443\n",
      "1100012XX1\n",
      "0111001221\n",
      "01X1000000\n"
     ]
    }
   ],
   "source": [
    "%run minesweeper_solver \"world1/world1_2.json\" \"world1/world1_2_result.json\""
   ]
  },
  {
   "cell_type": "code",
   "execution_count": 27,
   "metadata": {},
   "outputs": [
    {
     "name": "stdout",
     "output_type": "stream",
     "text": [
      "Input matrix:\n",
      "\n",
      "?X20001X??\n",
      "XX200123XX\n",
      "X31001X443\n",
      "1100012XX1\n",
      "0111001221\n",
      "01X1000000\n",
      "\n",
      "Resulting matrix:\n",
      "\n",
      "?X20001Xs?\n",
      "XX200123XX\n",
      "X31001X443\n",
      "1100012XX1\n",
      "0111001221\n",
      "01X1000000\n"
     ]
    }
   ],
   "source": [
    "%run minesweeper_solver \"world1/world1_3.json\" \"world1/world1_3_result.json\""
   ]
  },
  {
   "cell_type": "code",
   "execution_count": 28,
   "metadata": {},
   "outputs": [
    {
     "name": "stdout",
     "output_type": "stream",
     "text": [
      "Input matrix:\n",
      "\n",
      "?X20001X3?\n",
      "XX200123XX\n",
      "X31001X443\n",
      "1100012XX1\n",
      "0111001221\n",
      "01X1000000\n",
      "\n",
      "Resulting matrix:\n",
      "\n",
      "XX20001X3s\n",
      "XX200123XX\n",
      "X31001X443\n",
      "1100012XX1\n",
      "0111001221\n",
      "01X1000000\n"
     ]
    }
   ],
   "source": [
    "%run minesweeper_solver \"world1/world1_4.json\" \"world1/world1_4_result.json\""
   ]
  },
  {
   "cell_type": "code",
   "execution_count": 29,
   "metadata": {},
   "outputs": [
    {
     "name": "stdout",
     "output_type": "stream",
     "text": [
      "Input matrix:\n",
      "\n",
      "XX20001X32\n",
      "XX200123XX\n",
      "X31001X443\n",
      "1100012XX1\n",
      "0111001221\n",
      "01X1000000\n",
      "\n",
      "Resulting matrix:\n",
      "\n",
      "XX20001X32\n",
      "XX200123XX\n",
      "X31001X443\n",
      "1100012XX1\n",
      "0111001221\n",
      "01X1000000\n"
     ]
    }
   ],
   "source": [
    "%run minesweeper_solver \"world1/world1_5.json\" \"world1/world1_5_result.json\""
   ]
  },
  {
   "cell_type": "markdown",
   "metadata": {},
   "source": [
    "#### Example of a world that is not resolvable in deterministic way (world2/world2_0.json)\n",
    "\n",
    "Number of mines: 10\n",
    "\n",
    "Size: 9 x 6\n",
    "\n",
    "Configuration:\n",
    "\n",
    "    ??2??11??\n",
    "    ??4321122\n",
    "    2??100000\n",
    "    122100111\n",
    "    1100001?1\n",
    "    ?10000111"
   ]
  },
  {
   "cell_type": "code",
   "execution_count": 30,
   "metadata": {},
   "outputs": [
    {
     "name": "stdout",
     "output_type": "stream",
     "text": [
      "Input matrix:\n",
      "\n",
      "??2??11??\n",
      "??4321122\n",
      "2??100000\n",
      "122100111\n",
      "1100001?1\n",
      "?10000111\n",
      "\n",
      "Resulting matrix:\n",
      "\n",
      "??2XX11XX\n",
      "??4321122\n",
      "2XX100000\n",
      "122100111\n",
      "1100001X1\n",
      "X10000111\n"
     ]
    }
   ],
   "source": [
    "%run minesweeper_solver \"world2/world2_0.json\" \"world2/world2_0_result.json\""
   ]
  },
  {
   "cell_type": "markdown",
   "metadata": {},
   "source": [
    "## Deduction in the Wumpus world\n",
    "\n",
    "In this exercise you should consider the [Hunt the Wumpus](https://docs.google.com/document/d/1ySK0M-txOuIVWUGxPB02Ws_p5nSi5aLMlDQl4NMtAlk/edit?usp=sharing) domain, and use the prover to deduce facts about the given instance of the problem.\n",
    "\n",
    "Use the techniques that you learned in the previous exercises to deduce (if possible) the safe cells and the position of pits and Wumpus given the perceptions that the agent would detect from a given cell.\n",
    "\n",
    "The input is given as a matrix where cells contain either the letter `B` (breeze) or `S` (stench) according whether the agent, placed in the corresponding cell, would feel one of the two situations. We assume that the sensing information *doesn't* include the presence of pit and wumpus in the cells where they are located (see the example below for details).\n",
    "\n",
    "E.g. a possible configuration and the corresponding \"perception\" matrix would be:\n",
    "\n",
    "    +---+---+---+---+        +---+---+---+---+\n",
    "    |  P| G |   |   |        |   |  B|S  |   |\n",
    "    |   |   |   |   |        |   |   |   |   |\n",
    "    +---+---+---+---+        +---+---+---+---+\n",
    "    |   |   |W  |   |        |  B|S  |   |S B|\n",
    "    |   |   |   |   |        |   |   |   |   |\n",
    "    +---+---+---+---+ =====> +---+---+---+---+\n",
    "    |   |   |   |  P|        |   |   |S B|   |\n",
    "    |   |   |   |   |        |   |   |   |   |\n",
    "    +---+---+---+---+        +---+---+---+---+\n",
    "    |   |   |   |   |        |   |   |   |  B|\n",
    "    | A |   |   |   |        | A |   |   |   |\n",
    "    +---+---+---+---+        +---+---+---+---+\n",
    "\n",
    "Note that neither the cells where pits and wumpus are located don't sense breeze or stench coming from the same cell. They would sense neighbouring cells. \n",
    "\n",
    "\n",
    "Try to solve the following two examples by encoding using SMT-LIB and explain the method you used."
   ]
  },
  {
   "cell_type": "markdown",
   "metadata": {},
   "source": [
    "1. **Example 1**\n",
    "    ```\n",
    "    +---+---+---+---+\n",
    "    |   |  B|  B|  B|\n",
    "    |   |   |   |   |\n",
    "    +---+---+---+---+\n",
    "    |   |  B|  B|  B|\n",
    "    |   |   |   |   |\n",
    "    +---+---+---+---+\n",
    "    |  B|   |  B|S B|\n",
    "    |   |   |   |   |\n",
    "    +---+---+---+---+\n",
    "    |   |  B|S  |   |\n",
    "    | A |   |   |   |\n",
    "    +---+---+---+---+\n",
    "    ```"
   ]
  },
  {
   "cell_type": "code",
   "execution_count": 31,
   "metadata": {},
   "outputs": [
    {
     "name": "stdout",
     "output_type": "stream",
     "text": [
      "sat\n",
      "((p00 0)\n",
      " (p01 0)\n",
      " (p02 0)\n",
      " (p03 0)\n",
      " (p10 0)\n",
      " (p11 1)\n",
      " (p12 0)\n",
      " (p13 0)\n",
      " (p20 0)\n",
      " (p21 0)\n",
      " (p22 1)\n",
      " (p23 1)\n",
      " (p30 0)\n",
      " (p31 0)\n",
      " (p32 1)\n",
      " (p33 0)\n",
      " (w00 0)\n",
      " (w01 0)\n",
      " (w02 0)\n",
      " (w03 0)\n",
      " (w10 0)\n",
      " (w11 0)\n",
      " (w12 0)\n",
      " (w13 0)\n",
      " (w20 0)\n",
      " (w21 0)\n",
      " (w22 0)\n",
      " (w23 0)\n",
      " (w30 1)\n",
      " (w31 0)\n",
      " (w32 0)\n",
      " (w33 0))\n"
     ]
    }
   ],
   "source": [
    "%%script z3 -in -smt2\n",
    "\n",
    "(set-option :produce-models true)\n",
    "\n",
    "(declare-const p00 Int)\n",
    "(declare-const p01 Int)\n",
    "(declare-const p02 Int)\n",
    "(declare-const p03 Int)\n",
    "(declare-const p10 Int)\n",
    "(declare-const p11 Int)\n",
    "(declare-const p12 Int)\n",
    "(declare-const p13 Int)\n",
    "(declare-const p20 Int)\n",
    "(declare-const p21 Int)\n",
    "(declare-const p22 Int)\n",
    "(declare-const p23 Int)\n",
    "(declare-const p30 Int)\n",
    "(declare-const p31 Int)\n",
    "(declare-const p32 Int)\n",
    "(declare-const p33 Int)\n",
    "\n",
    "(declare-const w00 Int)\n",
    "(declare-const w01 Int)\n",
    "(declare-const w02 Int)\n",
    "(declare-const w03 Int)\n",
    "(declare-const w10 Int)\n",
    "(declare-const w11 Int)\n",
    "(declare-const w12 Int)\n",
    "(declare-const w13 Int)\n",
    "(declare-const w20 Int)\n",
    "(declare-const w21 Int)\n",
    "(declare-const w22 Int)\n",
    "(declare-const w23 Int)\n",
    "(declare-const w30 Int)\n",
    "(declare-const w31 Int)\n",
    "(declare-const w32 Int)\n",
    "(declare-const w33 Int)\n",
    "\n",
    "(assert (and (<= p00 1) (>= p00 0)\n",
    "             (<= p01 1) (>= p01 0)\n",
    "             (<= p02 1) (>= p02 0)\n",
    "             (<= p03 1) (>= p03 0)\n",
    "             (<= p10 1) (>= p10 0)\n",
    "             (<= p11 1) (>= p11 0)\n",
    "             (<= p12 1) (>= p12 0)\n",
    "             (<= p13 1) (>= p13 0)\n",
    "             (<= p20 1) (>= p20 0)\n",
    "             (<= p21 1) (>= p21 0)\n",
    "             (<= p22 1) (>= p22 0)\n",
    "             (<= p23 1) (>= p23 0)\n",
    "             (<= p30 1) (>= p30 0)\n",
    "             (<= p31 1) (>= p31 0)\n",
    "             (<= p32 1) (>= p32 0)\n",
    "             (<= p33 1) (>= p33 0)\n",
    "        )\n",
    ")\n",
    "\n",
    "(assert (and (<= w00 1) (>= w00 0)\n",
    "             (<= w01 1) (>= w01 0)\n",
    "             (<= w02 1) (>= w02 0)\n",
    "             (<= w03 1) (>= w03 0)\n",
    "             (<= w10 1) (>= w10 0)\n",
    "             (<= w11 1) (>= w11 0)\n",
    "             (<= w12 1) (>= w12 0)\n",
    "             (<= w13 1) (>= w13 0)\n",
    "             (<= w20 1) (>= w20 0)\n",
    "             (<= w21 1) (>= w21 0)\n",
    "             (<= w22 1) (>= w22 0)\n",
    "             (<= w23 1) (>= w23 0)\n",
    "             (<= w30 1) (>= w30 0)\n",
    "             (<= w31 1) (>= w31 0)\n",
    "             (<= w32 1) (>= w32 0)\n",
    "             (<= w33 1) (>= w33 0)\n",
    "        )\n",
    ")\n",
    "\n",
    "\n",
    "; PIT MAPPING\n",
    "\n",
    ";sum of the neighbour following the schema (North + East + South + West) \n",
    ";starting from bottom left (0, 0)\n",
    "\n",
    "\n",
    ";if we knew the total number of pits in the environment we could add this constraint too\n",
    ";(assert (= 4 (+ p00 (+ p01 (+ p02 (+ p03 (+ p10 (+ p11 (+ p12 (+ p13 (+ p20 (+ p21 (+ p22 (+ p23 (+ p30 (+ p31 (+ p32 p33) ))))))))))))))))\n",
    "\n",
    "\n",
    "(assert (= 0 (+ p01 p10)))\n",
    "(assert (and (<= 1 (+ p11 (+ p20 p00))) (>= 3 (+ p11 (+ p20 p00)))))\n",
    "(assert (= 0 (+ p10 (+ p21 p30))))\n",
    "(assert (= 0 (+ p20 p31)))\n",
    "(assert (and (<= 1 (+ p02 (+ p11 p00))) (>= 3 (+ p02 (+ p11 p00)))))\n",
    "(assert (= 0 (+ p12 (+ p21 (+ p10 p01)))))\n",
    "(assert (and (<= 1 (+ p22 (+ p31 (+ p20 p11)))) (>= 4 (+ p22 (+ p31 (+ p20 p11))))))\n",
    "(assert (and (<= 1 (+ p32 (+ p30 p21))) (>= 3 (+ p32 (+ p30 p21)))))\n",
    "(assert (= 0 (+ p03 (+ p12 p01))))\n",
    "(assert (and (<= 1 (+ p13 (+ p22 (+ p11 p02)))) (>= 4 (+ p13 (+ p22 (+ p11 p02))))))\n",
    "(assert (and (<= 1 (+ p23 (+ p32 (+ p21 p12)))) (>= 4 (+ p23 (+ p32 (+ p21 p12))))))\n",
    "(assert (and (<= 1 (+ p33 (+ p31 p22))) (>= 3 (+ p33 (+ p31 p22)))))\n",
    "(assert (= 0 (+ p13 p02)))\n",
    "(assert (and (<= 1 (+ p23 (+ p12 p03))) (>= 3 (+ p23 (+ p12 p03)))))\n",
    "(assert (and (<= 1 (+ p33 (+ p22 p13))) (>= 3 (+ p33 (+ p22 p13)))))\n",
    "(assert (and (<= 1 (+ p32 p23)) (>= 2 (+ p32 p23))))\n",
    "\n",
    "\n",
    "; WUMPUS MAPPING\n",
    "\n",
    "\n",
    "(assert (= 1 (+ w00 (+ w01 (+ w02 (+ w03 (+ w10 (+ w11 (+ w12 (+ w13 (+ w20 (+ w21 (+ w22 (+ w23 (+ w30 (+ w31 (+ w32 w33)))))))))))))))))\n",
    "\n",
    "\n",
    "(assert (= 0 (+ w01 w10)))\n",
    "(assert (= 0 (+ w11 (+ w20 w00))))\n",
    "(assert (and (<= 1 (+ w10 (+ w21 w30))) (>= 3 (+ w10 (+ w21 w30)))))\n",
    "(assert (= 0 (+ w20 w31)))\n",
    "(assert (= 0 (+ w02 (+ w11 w00))))\n",
    "(assert (= 0 (+ w12 (+ w21 (+ w10 w01)))))\n",
    "(assert (= 0 (+ w22 (+ w31 (+ w20 w11)))))\n",
    "(assert (and (<= 1 (+ w32 (+ w30 w21))) (>= 3 (+ w32 (+ w30 w21)))))\n",
    "(assert (= 0 (+ w03 (+ w12 w01))))\n",
    "(assert (= 0 (+ w13 (+ w22 (+ w11 w02)))))\n",
    "(assert (= 0 (+ w23 (+ w32 (+ w21 w12)))))\n",
    "(assert (= 0 (+ w33 (+ w31 w22))))\n",
    "(assert (= 0 (+ w13 w02)))\n",
    "(assert (= 0 (+ w23 (+ w12 w03))))\n",
    "(assert (= 0 (+ w33 (+ w22 w13))))\n",
    "(assert (= 0 (+ w32 w23)))\n",
    "\n",
    "\n",
    "\n",
    "(check-sat)\n",
    "(get-value (p00 p01 p02 p03 p10 p11 p12 p13 p20 p21 p22 p23 p30 p31 p32 p33 \n",
    "            w00 w01 w02 w03 w10 w11 w12 w13 w20 w21 w22 w23 w30 w31 w32 w33))\n",
    "(exit)"
   ]
  },
  {
   "cell_type": "markdown",
   "metadata": {},
   "source": [
    "2. **Example 2**\n",
    "    ```\n",
    "    +---+---+---+---+\n",
    "    |   |  B|S  |  B|\n",
    "    |   |   |   |   |\n",
    "    +---+---+---+---+\n",
    "    |  B|S B|  B|S  |\n",
    "    |   |   |   |   |\n",
    "    +---+---+---+---+\n",
    "    |  B|  B|S B|  B|\n",
    "    |   |   |   |   |\n",
    "    +---+---+---+---+\n",
    "    |  B|  B|  B|   |\n",
    "    | A |   |   |   |\n",
    "    +---+---+---+---+\n",
    "    ```"
   ]
  },
  {
   "cell_type": "code",
   "execution_count": 32,
   "metadata": {},
   "outputs": [
    {
     "name": "stdout",
     "output_type": "stream",
     "text": [
      "sat\n",
      "((p00 0)\n",
      " (p01 1)\n",
      " (p02 0)\n",
      " (p03 0)\n",
      " (p10 0)\n",
      " (p11 1)\n",
      " (p12 1)\n",
      " (p13 0)\n",
      " (p20 0)\n",
      " (p21 0)\n",
      " (p22 0)\n",
      " (p23 0)\n",
      " (p30 1)\n",
      " (p31 0)\n",
      " (p32 1)\n",
      " (p33 0)\n",
      " (w00 0)\n",
      " (w01 0)\n",
      " (w02 0)\n",
      " (w03 0)\n",
      " (w10 0)\n",
      " (w11 0)\n",
      " (w12 0)\n",
      " (w13 0)\n",
      " (w20 0)\n",
      " (w21 0)\n",
      " (w22 1)\n",
      " (w23 0)\n",
      " (w30 0)\n",
      " (w31 0)\n",
      " (w32 0)\n",
      " (w33 0))\n"
     ]
    }
   ],
   "source": [
    "%%script z3 -in -smt2\n",
    "\n",
    "(set-option :produce-models true)\n",
    "\n",
    "(declare-const p00 Int)\n",
    "(declare-const p01 Int)\n",
    "(declare-const p02 Int)\n",
    "(declare-const p03 Int)\n",
    "(declare-const p10 Int)\n",
    "(declare-const p11 Int)\n",
    "(declare-const p12 Int)\n",
    "(declare-const p13 Int)\n",
    "(declare-const p20 Int)\n",
    "(declare-const p21 Int)\n",
    "(declare-const p22 Int)\n",
    "(declare-const p23 Int)\n",
    "(declare-const p30 Int)\n",
    "(declare-const p31 Int)\n",
    "(declare-const p32 Int)\n",
    "(declare-const p33 Int)\n",
    "\n",
    "(declare-const w00 Int)\n",
    "(declare-const w01 Int)\n",
    "(declare-const w02 Int)\n",
    "(declare-const w03 Int)\n",
    "(declare-const w10 Int)\n",
    "(declare-const w11 Int)\n",
    "(declare-const w12 Int)\n",
    "(declare-const w13 Int)\n",
    "(declare-const w20 Int)\n",
    "(declare-const w21 Int)\n",
    "(declare-const w22 Int)\n",
    "(declare-const w23 Int)\n",
    "(declare-const w30 Int)\n",
    "(declare-const w31 Int)\n",
    "(declare-const w32 Int)\n",
    "(declare-const w33 Int)\n",
    "\n",
    "(assert (and (<= p00 1) (>= p00 0)\n",
    "             (<= p01 1) (>= p01 0)\n",
    "             (<= p02 1) (>= p02 0)\n",
    "             (<= p03 1) (>= p03 0)\n",
    "             (<= p10 1) (>= p10 0)\n",
    "             (<= p11 1) (>= p11 0)\n",
    "             (<= p12 1) (>= p12 0)\n",
    "             (<= p13 1) (>= p13 0)\n",
    "             (<= p20 1) (>= p20 0)\n",
    "             (<= p21 1) (>= p21 0)\n",
    "             (<= p22 1) (>= p22 0)\n",
    "             (<= p23 1) (>= p23 0)\n",
    "             (<= p30 1) (>= p30 0)\n",
    "             (<= p31 1) (>= p31 0)\n",
    "             (<= p32 1) (>= p32 0)\n",
    "             (<= p33 1) (>= p33 0)\n",
    "        )\n",
    ")\n",
    "\n",
    "(assert (and (<= w00 1) (>= w00 0)\n",
    "             (<= w01 1) (>= w01 0)\n",
    "             (<= w02 1) (>= w02 0)\n",
    "             (<= w03 1) (>= w03 0)\n",
    "             (<= w10 1) (>= w10 0)\n",
    "             (<= w11 1) (>= w11 0)\n",
    "             (<= w12 1) (>= w12 0)\n",
    "             (<= w13 1) (>= w13 0)\n",
    "             (<= w20 1) (>= w20 0)\n",
    "             (<= w21 1) (>= w21 0)\n",
    "             (<= w22 1) (>= w22 0)\n",
    "             (<= w23 1) (>= w23 0)\n",
    "             (<= w30 1) (>= w30 0)\n",
    "             (<= w31 1) (>= w31 0)\n",
    "             (<= w32 1) (>= w32 0)\n",
    "             (<= w33 1) (>= w33 0)\n",
    "        )\n",
    ")\n",
    "\n",
    "\n",
    "; PIT MAPPING\n",
    "\n",
    ";sum of the neighbour following the schema (North + East + South + West) \n",
    ";starting from bottom left (0, 0)\n",
    "\n",
    "\n",
    ";if we knew the total number of pits in the environment we could add this constraint too\n",
    ";(assert (= 4 (+ p00 (+ p01 (+ p02 (+ p03 (+ p10 (+ p11 (+ p12 (+ p13 (+ p20 (+ p21 (+ p22 (+ p23 (+ p30 (+ p31 (+ p32 p33) ))))))))))))))))\n",
    "\n",
    "\n",
    "(assert (and (<= 1 (+ p01 p10)) (>= 2 (+ p01 p10))))\n",
    "(assert (and (<= 1 (+ p11 (+ p20 p00))) (>= 3 (+ p11 (+ p20 p00)))))\n",
    "(assert (and (<= 1 (+ p10 (+ p21 p30))) (>= 3 (+ p10 (+ p21 p30)))))\n",
    "(assert (= 0 (+ p20 p31)))\n",
    "(assert (and (<= 1 (+ p02 (+ p11 p00))) (>= 3 (+ p02 (+ p11 p00)))))\n",
    "(assert (and (<= 1 (+ p12 (+ p21 (+ p10 p01)))) (>= 4 (+ p12 (+ p21 (+ p10 p01))))))\n",
    "(assert (and (<= 1 (+ p22 (+ p31 (+ p20 p11)))) (>= 4 (+ p22 (+ p31 (+ p20 p11))))))\n",
    "(assert (and (<= 1 (+ p32 (+ p30 p21))) (>= 3 (+ p32 (+ p30 p21)))))\n",
    "(assert (and (<= 1 (+ p03 (+ p12 p01))) (>= 3 (+ p03 (+ p12 p01)))))\n",
    "(assert (and (<= 1 (+ p13 (+ p22 (+ p11 p02)))) (>= 4 (+ p13 (+ p22 (+ p11 p02))))))\n",
    "(assert (and (<= 1 (+ p23 (+ p32 (+ p21 p12)))) (>= 4 (+ p23 (+ p32 (+ p21 p12))))))\n",
    "(assert (= 0 (+ p33 (+ p31 p22))))\n",
    "(assert (= 0 (+ p13 p02)))\n",
    "(assert (and (<= 1 (+ p23 (+ p12 p03))) (>= 3 (+ p23 (+ p12 p03)))))\n",
    "(assert (= 0 (+ p33 (+ p22 p13))))\n",
    "(assert (and (<= 1 (+ p32 p23)) (>= 2 (+ p32 p23))))\n",
    "\n",
    "\n",
    "; WUMPUS MAPPING\n",
    "\n",
    "\n",
    "(assert (= 1 (+ w00 (+ w01 (+ w02 (+ w03 (+ w10 (+ w11 (+ w12 (+ w13 (+ w20 (+ w21 (+ w22 (+ w23 (+ w30 (+ w31 (+ w32 w33)))))))))))))))))\n",
    "\n",
    "\n",
    "(assert (= 0 (+ w01 w10)))\n",
    "(assert (= 0 (+ w11 (+ w20 w00))))\n",
    "(assert (= 0 (+ w10 (+ w21 w30))))\n",
    "(assert (= 0 (+ w20 w31)))\n",
    "(assert (= 0 (+ w02 (+ w11 w00))))\n",
    "(assert (= 0 (+ w12 (+ w21 (+ w10 w01)))))\n",
    "(assert (and (<= 1 (+ w22 (+ w31 (+ w20 w11)))) (>= 4 (+ w22 (+ w31 (+ w20 w11))))))\n",
    "(assert (= 0 (+ w32 (+ w30 w21))))\n",
    "(assert (= 0 (+ w03 (+ w12 w01))))\n",
    "(assert (and (<= 1 (+ w13 (+ w22 (+ w11 w02)))) (>= 4 (+ w13 (+ w22 (+ w11 w02))))))\n",
    "(assert (= 0 (+ w23 (+ w32 (+ w21 w12)))))\n",
    "(assert (and (<= 1 (+ w33 (+ w31 w22))) (>= 3 (+ w33 (+ w31 w22)))))\n",
    "(assert (= 0 (+ w13 w02)))\n",
    "(assert (= 0 (+ w23 (+ w12 w03))))\n",
    "(assert (and (<= 1 (+ w33 (+ w22 w13))) (>= 3 (+ w33 (+ w22 w13)))))\n",
    "(assert (= 0 (+ w32 w23)))\n",
    "\n",
    "(check-sat)\n",
    "(get-value (p00 p01 p02 p03 p10 p11 p12 p13 p20 p21 p22 p23 p30 p31 p32 p33 \n",
    "            w00 w01 w02 w03 w10 w11 w12 w13 w20 w21 w22 w23 w30 w31 w32 w33))\n",
    "(exit)"
   ]
  },
  {
   "cell_type": "markdown",
   "metadata": {},
   "source": [
    "Now you should consider the case that only partial information is available, i.e. for some cells you don't have any information (below they're marked with `?`). This means that you can have several possible configurations (i.e. *models* in logic terms) corresponding to the available informations.\n",
    "\n",
    "You should encode the configuration below (it's the first example with some unknown cells) and verify whether the first model the solver returns is the same as the one found for the first example.\n",
    "\n",
    "```\n",
    "+---+---+---+---+\n",
    "|   |  B|  ?|  ?|\n",
    "|   |   |   |   |\n",
    "+---+---+---+---+\n",
    "|   |  B|  ?|  B|\n",
    "|   |   |   |   |\n",
    "+---+---+---+---+\n",
    "|  B|  ?|  ?|  ?|\n",
    "|   |   |   |   |\n",
    "+---+---+---+---+\n",
    "|   |  B|S  |   |\n",
    "| A |   |   |   |\n",
    "+---+---+---+---+\n",
    "```\n"
   ]
  },
  {
   "cell_type": "code",
   "execution_count": 33,
   "metadata": {},
   "outputs": [
    {
     "name": "stdout",
     "output_type": "stream",
     "text": [
      "sat\n",
      "((p00 0)\n",
      " (p01 0)\n",
      " (p02 0)\n",
      " (p03 0)\n",
      " (p10 0)\n",
      " (p11 1)\n",
      " (p12 0)\n",
      " (p13 0)\n",
      " (p20 0)\n",
      " (p21 0)\n",
      " (p22 1)\n",
      " (p23 1)\n",
      " (p30 0)\n",
      " (p31 0)\n",
      " (p32 0)\n",
      " (p33 0)\n",
      " (w00 0)\n",
      " (w01 0)\n",
      " (w02 0)\n",
      " (w03 0)\n",
      " (w10 0)\n",
      " (w11 0)\n",
      " (w12 0)\n",
      " (w13 0)\n",
      " (w20 0)\n",
      " (w21 1)\n",
      " (w22 0)\n",
      " (w23 0)\n",
      " (w30 0)\n",
      " (w31 0)\n",
      " (w32 0)\n",
      " (w33 0))\n"
     ]
    }
   ],
   "source": [
    "%%script z3 -in -smt2\n",
    "\n",
    "(set-option :produce-models true)\n",
    "\n",
    "(declare-const p00 Int)\n",
    "(declare-const p01 Int)\n",
    "(declare-const p02 Int)\n",
    "(declare-const p03 Int)\n",
    "(declare-const p10 Int)\n",
    "(declare-const p11 Int)\n",
    "(declare-const p12 Int)\n",
    "(declare-const p13 Int)\n",
    "(declare-const p20 Int)\n",
    "(declare-const p21 Int)\n",
    "(declare-const p22 Int)\n",
    "(declare-const p23 Int)\n",
    "(declare-const p30 Int)\n",
    "(declare-const p31 Int)\n",
    "(declare-const p32 Int)\n",
    "(declare-const p33 Int)\n",
    "\n",
    "(declare-const w00 Int)\n",
    "(declare-const w01 Int)\n",
    "(declare-const w02 Int)\n",
    "(declare-const w03 Int)\n",
    "(declare-const w10 Int)\n",
    "(declare-const w11 Int)\n",
    "(declare-const w12 Int)\n",
    "(declare-const w13 Int)\n",
    "(declare-const w20 Int)\n",
    "(declare-const w21 Int)\n",
    "(declare-const w22 Int)\n",
    "(declare-const w23 Int)\n",
    "(declare-const w30 Int)\n",
    "(declare-const w31 Int)\n",
    "(declare-const w32 Int)\n",
    "(declare-const w33 Int)\n",
    "\n",
    "(assert (and (<= p00 1) (>= p00 0)\n",
    "             (<= p01 1) (>= p01 0)\n",
    "             (<= p02 1) (>= p02 0)\n",
    "             (<= p03 1) (>= p03 0)\n",
    "             (<= p10 1) (>= p10 0)\n",
    "             (<= p11 1) (>= p11 0)\n",
    "             (<= p12 1) (>= p12 0)\n",
    "             (<= p13 1) (>= p13 0)\n",
    "             (<= p20 1) (>= p20 0)\n",
    "             (<= p21 1) (>= p21 0)\n",
    "             (<= p22 1) (>= p22 0)\n",
    "             (<= p23 1) (>= p23 0)\n",
    "             (<= p30 1) (>= p30 0)\n",
    "             (<= p31 1) (>= p31 0)\n",
    "             (<= p32 1) (>= p32 0)\n",
    "             (<= p33 1) (>= p33 0)\n",
    "        )\n",
    ")\n",
    "\n",
    "(assert (and (<= w00 1) (>= w00 0)\n",
    "             (<= w01 1) (>= w01 0)\n",
    "             (<= w02 1) (>= w02 0)\n",
    "             (<= w03 1) (>= w03 0)\n",
    "             (<= w10 1) (>= w10 0)\n",
    "             (<= w11 1) (>= w11 0)\n",
    "             (<= w12 1) (>= w12 0)\n",
    "             (<= w13 1) (>= w13 0)\n",
    "             (<= w20 1) (>= w20 0)\n",
    "             (<= w21 1) (>= w21 0)\n",
    "             (<= w22 1) (>= w22 0)\n",
    "             (<= w23 1) (>= w23 0)\n",
    "             (<= w30 1) (>= w30 0)\n",
    "             (<= w31 1) (>= w31 0)\n",
    "             (<= w32 1) (>= w32 0)\n",
    "             (<= w33 1) (>= w33 0)\n",
    "        )\n",
    ")\n",
    "\n",
    "; PIT MAPPING\n",
    "\n",
    ";sum of the neighbour following the schema (North + East + South + West) \n",
    ";starting from bottom left (0, 0)\n",
    "\n",
    "\n",
    ";if we knew the total number of pits in the environment we could add this constraint too\n",
    ";(assert (= 4 (+ p00 (+ p01 (+ p02 (+ p03 (+ p10 (+ p11 (+ p12 (+ p13 (+ p20 (+ p21 (+ p22 (+ p23 (+ p30 (+ p31 (+ p32 p33) ))))))))))))))))\n",
    "\n",
    "\n",
    "(assert (= 0 (+ p01 p10)))\n",
    "(assert (and (<= 1 (+ p11 (+ p20 p00))) (>= 3 (+ p11 (+ p20 p00)))))\n",
    "(assert (= 0 (+ p10 (+ p21 p30))))\n",
    "(assert (= 0 (+ p20 p31)))\n",
    "(assert (and (<= 1 (+ p02 (+ p11 p00))) (>= 3 (+ p02 (+ p11 p00)))))\n",
    ";(assert (= 0 (+ p12 (+ p21 (+ p10 p01)))))\n",
    ";(assert (and (<= 1 (+ p22 (+ p31 (+ p20 p11)))) (>= 4 (+ p22 (+ p31 (+ p20 p11))))))\n",
    ";(assert (and (<= 1 (+ p32 (+ p30 p21))) (>= 3 (+ p32 (+ p30 p21)))))\n",
    "(assert (= 0 (+ p03 (+ p12 p01))))\n",
    "(assert (and (<= 1 (+ p13 (+ p22 (+ p11 p02)))) (>= 4 (+ p13 (+ p22 (+ p11 p02))))))\n",
    ";(assert (and (<= 1 (+ p23 (+ p32 (+ p21 p12)))) (>= 4 (+ p23 (+ p32 (+ p21 p12))))))\n",
    "(assert (and (<= 1 (+ p33 (+ p31 p22))) (>= 3 (+ p33 (+ p31 p22)))))\n",
    "(assert (= 0 (+ p13 p02)))\n",
    "(assert (and (<= 1 (+ p23 (+ p12 p03))) (>= 3 (+ p23 (+ p12 p03)))))\n",
    ";(assert (and (<= 1 (+ p33 (+ p22 p13))) (>= 3 (+ p33 (+ p22 p13)))))\n",
    ";(assert (and (<= 1 (+ p32 p23)) (>= 2 (+ p32 p23))))\n",
    "\n",
    "\n",
    "; WUMPUS MAPPING\n",
    "\n",
    "\n",
    "(assert (= 1 (+ w00 (+ w01 (+ w02 (+ w03 (+ w10 (+ w11 (+ w12 (+ w13 (+ w20 (+ w21 (+ w22 (+ w23 (+ w30 (+ w31 (+ w32 w33)))))))))))))))))\n",
    "\n",
    "\n",
    "(assert (= 0 (+ w01 w10)))\n",
    "(assert (= 0 (+ w11 (+ w20 w00))))\n",
    "(assert (and (<= 1 (+ w10 (+ w21 w30))) (>= 3 (+ w10 (+ w21 w30)))))\n",
    "(assert (= 0 (+ w20 w31)))\n",
    "(assert (= 0 (+ w02 (+ w11 w00))))\n",
    ";(assert (= 0 (+ w12 (+ w21 (+ w10 w01)))))\n",
    ";(assert (= 0 (+ w22 (+ w31 (+ w20 w11)))))\n",
    ";(assert (and (<= 1 (+ w32 (+ w30 w21))) (>= 3 (+ w32 (+ w30 w21)))))\n",
    "(assert (= 0 (+ w03 (+ w12 w01))))\n",
    "(assert (= 0 (+ w13 (+ w22 (+ w11 w02)))))\n",
    ";(assert (= 0 (+ w23 (+ w32 (+ w21 w12)))))\n",
    "(assert (= 0 (+ w33 (+ w31 w22))))\n",
    "(assert (= 0 (+ w13 w02)))\n",
    "(assert (= 0 (+ w23 (+ w12 w03))))\n",
    ";(assert (= 0 (+ w33 (+ w22 w13))))\n",
    ";(assert (= 0 (+ w32 w23)))\n",
    "\n",
    "\n",
    "(check-sat)\n",
    "(get-value (p00 p01 p02 p03 p10 p11 p12 p13 p20 p21 p22 p23 p30 p31 p32 p33 \n",
    "            w00 w01 w02 w03 w10 w11 w12 w13 w20 w21 w22 w23 w30 w31 w32 w33))\n",
    "(exit)"
   ]
  },
  {
   "cell_type": "markdown",
   "metadata": {},
   "source": [
    "Example of a unsatisfiable world. A breeze in (1, 1) indicates a pit, but since the cell in (3, 2) has no breeze ther can not be a pit in (3, 1).\n",
    "\n",
    "```\n",
    "+---+---+---+---+\n",
    "|   |   |   |   |\n",
    "|   |   |   |   |\n",
    "+---+---+---+---+\n",
    "|   |   |   |   |\n",
    "|   |   |   |   |\n",
    "+---+---+---+---+\n",
    "|   |   |  B|  ?|\n",
    "|   |   |   |   |\n",
    "+---+---+---+---+\n",
    "|   |   |   |  ?|\n",
    "| A |   |   |   |\n",
    "+---+---+---+---+\n",
    "```\n",
    "\n"
   ]
  },
  {
   "cell_type": "code",
   "execution_count": 34,
   "metadata": {},
   "outputs": [
    {
     "name": "stdout",
     "output_type": "stream",
     "text": [
      "unsat\n"
     ]
    }
   ],
   "source": [
    "%%script z3 -in -smt2\n",
    "\n",
    "(set-option :produce-models true)\n",
    "\n",
    "(declare-const p00 Int)\n",
    "(declare-const p01 Int)\n",
    "(declare-const p02 Int)\n",
    "(declare-const p03 Int)\n",
    "(declare-const p10 Int)\n",
    "(declare-const p11 Int)\n",
    "(declare-const p12 Int)\n",
    "(declare-const p13 Int)\n",
    "(declare-const p20 Int)\n",
    "(declare-const p21 Int)\n",
    "(declare-const p22 Int)\n",
    "(declare-const p23 Int)\n",
    "(declare-const p30 Int)\n",
    "(declare-const p31 Int)\n",
    "(declare-const p32 Int)\n",
    "(declare-const p33 Int)\n",
    "\n",
    "(assert (and (<= p00 1) (>= p00 0)\n",
    "             (<= p01 1) (>= p01 0)\n",
    "             (<= p02 1) (>= p02 0)\n",
    "             (<= p03 1) (>= p03 0)\n",
    "             (<= p10 1) (>= p10 0)\n",
    "             (<= p11 1) (>= p11 0)\n",
    "             (<= p12 1) (>= p12 0)\n",
    "             (<= p13 1) (>= p13 0)\n",
    "             (<= p20 1) (>= p20 0)\n",
    "             (<= p21 1) (>= p21 0)\n",
    "             (<= p22 1) (>= p22 0)\n",
    "             (<= p23 1) (>= p23 0)\n",
    "             (<= p30 1) (>= p30 0)\n",
    "             (<= p31 1) (>= p31 0)\n",
    "             (<= p32 1) (>= p32 0)\n",
    "             (<= p33 1) (>= p33 0)\n",
    "        )\n",
    ")\n",
    "\n",
    "; PIT MAPPING\n",
    "\n",
    ";sum of the neighbour following the schema (North + East + South + West) \n",
    ";starting from bottom left (0, 0)\n",
    "\n",
    "\n",
    ";if we knew the total number of pits in the environment we could add this constraint too\n",
    ";(assert (= 4 (+ p00 (+ p01 (+ p02 (+ p03 (+ p10 (+ p11 (+ p12 (+ p13 (+ p20 (+ p21 (+ p22 (+ p23 (+ p30 (+ p31 (+ p32 p33) ))))))))))))))))\n",
    "\n",
    ";p00\n",
    ";(assert (and (<= 1 (+ p01 p10)) (>= 2 (+ p01 p10))))\n",
    "(assert (= 0 (+ p01 p10)))\n",
    ";p01\n",
    ";(assert (and (<= 1 (+ p11 (+ p20 p00))) (>= 3 (+ p11 (+ p20 p00)))))\n",
    "(assert (= 0 (+ p11 (+ p20 p00))))\n",
    ";p02\n",
    ";(assert (and (<= 1 (+ p10 (+ p21 p30))) (>= 3 (+ p10 (+ p21 p30)))))\n",
    "(assert (= 0 (+ p10 (+ p21 p30))))\n",
    ";p03\n",
    ";(assert (and (<= 1 (+ p20 p31)) (>= 2 (+ p20 p31))))\n",
    "(assert (= 0 (+ p20 p31)))\n",
    ";p10\n",
    ";(assert (and (<= 1 (+ p02 (+ p11 p00))) (>= 3 (+ p02 (+ p11 p00)))))\n",
    "(assert (= 0 (+ p02 (+ p11 p00))))\n",
    ";p11\n",
    ";(assert (and (<= 1 (+ p12 (+ p21 (+ p10 p01)))) (>= 4 (+ p12 (+ p21 (+ p10 p01))))))\n",
    "(assert (= 0 (+ p12 (+ p21 (+ p10 p01)))))\n",
    ";p12\n",
    "(assert (and (<= 1 (+ p22 (+ p31 (+ p20 p11)))) (>= 4 (+ p22 (+ p31 (+ p20 p11))))))\n",
    ";(assert (= 0 (+ p22 (+ p31 (+ p20 p11)))))\n",
    ";p13\n",
    ";(assert (and (<= 1 (+ p32 (+ p30 p21))) (>= 3 (+ p32 (+ p30 p21)))))\n",
    ";(assert (= 0 (+ p32 (+ p30 p21))))\n",
    ";p20\n",
    ";(assert (and (<= 1 (+ p03 (+ p12 p01))) (>= 3 (+ p03 (+ p12 p01)))))\n",
    "(assert (= 0 (+ p03 (+ p12 p01))))\n",
    ";p21\n",
    ";(assert (and (<= 1 (+ p13 (+ p22 (+ p11 p02)))) (>= 4 (+ p13 (+ p22 (+ p11 p02))))))\n",
    "(assert (= 0 (+ p13 (+ p22 (+ p11 p02)))))\n",
    ";p22\n",
    ";(assert (and (<= 1 (+ p23 (+ p32 (+ p21 p12)))) (>= 4 (+ p23 (+ p32 (+ p21 p12))))))\n",
    "(assert (= 0 (+ p23 (+ p32 (+ p21 p12)))))\n",
    ";p23\n",
    ";(assert (and (<= 1 (+ p33 (+ p31 p22))) (>= 3 (+ p33 (+ p31 p22)))))\n",
    ";(assert (= 0(+ p33 (+ p31 p22))))\n",
    ";p30\n",
    ";(assert (and (<= 1 (+ p13 p02)) (>= 2 (+ p13 p02))))\n",
    "(assert (= 0 (+ p13 p02)))\n",
    ";p31\n",
    ";(assert (and (<= 1 (+ p23 (+ p12 p03))) (>= 3 (+ p23 (+ p12 p03)))))\n",
    "(assert (= 0 (+ p23 (+ p12 p03))))\n",
    ";p32\n",
    ";(assert (and (<= 1 (+ p33 (+ p22 p13))) (>= 3 (+ p33 (+ p22 p13)))))\n",
    "(assert (= 0 (+ p33 (+ p22 p13))))\n",
    ";p33\n",
    ";(assert (and (<= 1 (+ p32 p23)) (>= 2 (+ p32 p23))))\n",
    "(assert (= 0 (+ p32 p23)))\n",
    "\n",
    "(check-sat)\n",
    ";(get-value (p00 p01 p02 p03 p10 p11 p12 p13 p20 p21 p22 p23 p30 p31 p32 p33))\n",
    "(exit)"
   ]
  },
  {
   "cell_type": "markdown",
   "metadata": {},
   "source": [
    "Using just SMT-LIB is not easy to find all the models; so we'll use the Z3 Python API to do so."
   ]
  },
  {
   "cell_type": "markdown",
   "metadata": {},
   "source": [
    "## Using the Python API\n",
    "\n",
    "Z3 provides APIs (bindings) for [different programming languages](https://github.com/Z3Prover/z3#z3-bindings). Python binding is a convenient interface to Z3 which is already bundled with the `smt` conda environment. A brief tutorial is available on [Z3 API in Python](http://ericpony.github.io/z3py-tutorial/guide-examples.htm) document (source available on [github](https://github.com/ericpony/z3py-tutorial)), a more detailed tutorial is available on [Programming Z3](http://theory.stanford.edu/~nikolaj/programmingz3.html), and the full API is described on [API documentation](http://z3prover.github.io/api/html/namespacez3py.html).\n",
    "\n",
    "For example the SAT example from the [tutorial](http://theory.stanford.edu/~nikolaj/programmingz3.html#sec-logical-interface) can be run with:"
   ]
  },
  {
   "cell_type": "code",
   "execution_count": 35,
   "metadata": {},
   "outputs": [
    {
     "name": "stdout",
     "output_type": "stream",
     "text": [
      "sat\n",
      "[Tie = False, Shirt = True]\n"
     ]
    }
   ],
   "source": [
    "from z3 import *\n",
    "Tie, Shirt = Bools('Tie Shirt')\n",
    "s = Solver()\n",
    "s.add(Or(Tie, Shirt), \n",
    "    Or(Not(Tie), Shirt), \n",
    "    Or(Not(Tie), Not(Shirt)))\n",
    "print(s.check())\n",
    "print(s.model())"
   ]
  },
  {
   "cell_type": "markdown",
   "metadata": {},
   "source": [
    "Note that you don't need the `%%z3` magic since you're using Python code which is evaluated directly by the kernel."
   ]
  },
  {
   "cell_type": "markdown",
   "metadata": {},
   "source": [
    "### Examples using Python API\n",
    "\n",
    "Convert the solutions to the previous exercises using Python API. For this exercise you can write your code in cells below or separate files."
   ]
  },
  {
   "cell_type": "markdown",
   "metadata": {},
   "source": [
    "### Enumerating all models\n",
    "\n",
    "Using the API you can write a procedure to enumerate all the models. The key to avoid the repetition of models that have been already enumerated is to add a formulae that falsify the models already discovered in such a way that they would be avoided in the search.\n",
    "\n",
    "Consider that a model is a set of variable assignments; therefore a formula that is blocking the model is the negation of the value assignments; e.g.:"
   ]
  },
  {
   "cell_type": "code",
   "execution_count": 36,
   "metadata": {},
   "outputs": [
    {
     "name": "stdout",
     "output_type": "stream",
     "text": [
      "[Tie = True, Shirt = False]\n",
      "[Tie = False, Shirt = True]\n"
     ]
    }
   ],
   "source": [
    "from z3 import *\n",
    "Tie, Shirt = Bools('Tie Shirt')\n",
    "s = Solver()\n",
    "s.add(Xor(Tie, Shirt))\n",
    "\n",
    "while s.check() == sat:\n",
    "    print(s.model())\n",
    "    s.add(Or([v() != s.model()[v] for v in s.model()]))"
   ]
  },
  {
   "cell_type": "markdown",
   "metadata": {},
   "source": [
    "Note the `v()` reference to the variable from the model and be aware that the above technique doesn't work with functions and arrays, see [this](https://stackoverflow.com/a/11869410) stackoverflow answer for details."
   ]
  },
  {
   "cell_type": "markdown",
   "metadata": {},
   "source": [
    "### Adjancecy matrix blueprint\n",
    "\n",
    "For 4x4 gridmap:\n",
    "\n",
    "Cells with perception: 1st line uncommented and 2nd line commented\n",
    "\n",
    "Cells with no perception: 1st line commented and 2nd line uncommented\n",
    "\n",
    "Cells which are unknown: both lines commented"
   ]
  },
  {
   "cell_type": "code",
   "execution_count": null,
   "metadata": {},
   "outputs": [],
   "source": [
    ";p00\n",
    "(assert (and (<= 1 (+ p01 p10)) (>= 2 (+ p01 p10))))\n",
    ";(assert (= 0 (+ p01 p10)))\n",
    ";p01\n",
    "(assert (and (<= 1 (+ p11 (+ p20 p00))) (>= 3 (+ p11 (+ p20 p00)))))\n",
    ";(assert (= 0 (+ p11 (+ p20 p00))))\n",
    ";p02\n",
    "(assert (and (<= 1 (+ p10 (+ p21 p30))) (>= 3 (+ p10 (+ p21 p30)))))\n",
    ";(assert (= 0 (+ p10 (+ p21 p30))))\n",
    ";p03\n",
    "(assert (and (<= 1 (+ p20 p31)) (>= 2 (+ p20 p31))))\n",
    ";(assert (= 0 (+ p20 p31)))\n",
    ";p10\n",
    "(assert (and (<= 1 (+ p02 (+ p11 p00))) (>= 3 (+ p02 (+ p11 p00)))))\n",
    ";(assert (= 0 (+ p02 (+ p11 p00))))\n",
    ";p11\n",
    "(assert (and (<= 1 (+ p12 (+ p21 (+ p10 p01)))) (>= 4 (+ p12 (+ p21 (+ p10 p01))))))\n",
    ";(assert (= 0 (+ p12 (+ p21 (+ p10 p01)))))\n",
    ";p12\n",
    "(assert (and (<= 1 (+ p22 (+ p31 (+ p20 p11)))) (>= 4 (+ p22 (+ p31 (+ p20 p11))))))\n",
    ";(assert (= 0 (+ p22 (+ p31 (+ p20 p11)))))\n",
    ";p13\n",
    "(assert (and (<= 1 (+ p32 (+ p30 p21))) (>= 3 (+ p32 (+ p30 p21)))))\n",
    ";(assert (= 0 (+ p32 (+ p30 p21))))\n",
    ";p20\n",
    "(assert (and (<= 1 (+ p03 (+ p12 p01))) (>= 3 (+ p03 (+ p12 p01)))))\n",
    ";(assert (= 0 (+ p03 (+ p12 p01))))\n",
    ";p21\n",
    "(assert (and (<= 1 (+ p13 (+ p22 (+ p11 p02)))) (>= 4 (+ p13 (+ p22 (+ p11 p02))))))\n",
    ";(assert (= 0 (+ p13 (+ p22 (+ p11 p02)))))\n",
    ";p22\n",
    "(assert (and (<= 1 (+ p23 (+ p32 (+ p21 p12)))) (>= 4 (+ p23 (+ p32 (+ p21 p12))))))\n",
    ";(assert (= 0 (+ p23 (+ p32 (+ p21 p12)))))\n",
    ";p23\n",
    "(assert (and (<= 1 (+ p33 (+ p31 p22))) (>= 3 (+ p33 (+ p31 p22)))))\n",
    ";(assert (= 0(+ p33 (+ p31 p22))))\n",
    ";p30\n",
    "(assert (and (<= 1 (+ p13 p02)) (>= 2 (+ p13 p02))))\n",
    ";(assert (= 0 (+ p13 p02)))\n",
    ";p31\n",
    "(assert (and (<= 1 (+ p23 (+ p12 p03))) (>= 3 (+ p23 (+ p12 p03)))))\n",
    ";(assert (= 0 (+ p23 (+ p12 p03))))\n",
    ";p32\n",
    "(assert (and (<= 1 (+ p33 (+ p22 p13))) (>= 3 (+ p33 (+ p22 p13)))))\n",
    ";(assert (= 0 (+ p33 (+ p22 p13))))\n",
    ";p33\n",
    "(assert (and (<= 1 (+ p32 p23)) (>= 2 (+ p32 p23))))\n",
    ";(assert (= 0 (+ p32 p23)))"
   ]
  }
 ],
 "metadata": {
  "kernelspec": {
   "display_name": "Python 3",
   "language": "python",
   "name": "python3"
  },
  "language_info": {
   "codemirror_mode": {
    "name": "ipython",
    "version": 3
   },
   "file_extension": ".py",
   "mimetype": "text/x-python",
   "name": "python",
   "nbconvert_exporter": "python",
   "pygments_lexer": "ipython3",
   "version": "3.8.6"
  }
 },
 "nbformat": 4,
 "nbformat_minor": 4
}
